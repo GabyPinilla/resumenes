{
  "nbformat": 4,
  "nbformat_minor": 0,
  "metadata": {
    "colab": {
      "provenance": [],
      "authorship_tag": "ABX9TyOtPItqfqS3rmLunBRh/whz"
    },
    "kernelspec": {
      "name": "python3",
      "display_name": "Python 3"
    },
    "language_info": {
      "name": "python"
    }
  },
  "cells": [
    {
      "cell_type": "markdown",
      "source": [
        "<h1 align=\"center\">Resumen de comandos de Python</h1>"
      ],
      "metadata": {
        "id": "YXAjnOMlJMZ5"
      }
    },
    {
      "cell_type": "markdown",
      "source": [
        "## Importación de librerías\n",
        "Para importar librerías en Python, se usa el comando `import` seguido de la librería. Se les suele agregar un alias mediante el comadno `as`, quedando la sintaxis de la siguiente forma:\n",
        "```\n",
        "import <libreria> as <alias>\n",
        "```\n",
        "Si se quiere importar solo una función de una librería:\n",
        "```\n",
        "from <libreria> import <funcion> as <alias>\n",
        "```\n",
        "Por ejemplo, para poder generar e imprimir un número aleatorio entre 1 y 10 se debe importar la librería `random` para posteriormente usar la función `randit`:\n",
        "```\n",
        "# Función que genera un número aleatorio\n",
        "import random\n",
        "num = random.randit(0,10)\n",
        "print('El número es ', num)\n",
        "```"
      ],
      "metadata": {
        "id": "LGZHZqAi7eeq"
      }
    },
    {
      "cell_type": "markdown",
      "source": [
        "En este documento, se utilizarán las siguientes librerías:"
      ],
      "metadata": {
        "id": "ugU8KWpo9Ynh"
      }
    },
    {
      "cell_type": "code",
      "source": [
        "import random"
      ],
      "metadata": {
        "id": "oy0nKy2LNshD"
      },
      "execution_count": null,
      "outputs": []
    },
    {
      "cell_type": "markdown",
      "source": [
        "## Importar archivos csv en Colab\n",
        "En Google Colaboratory, los datos de Drive se importan con Pandas de la siguiente manera:\n",
        "1. Escribir el siguiente código en el bloque de código:\n",
        "```\n",
        "from google.colab import drive\n",
        "drive.mount('/content/drive')\n",
        "```\n",
        "2. Ir a Archivos > Drive > Copiar ruta de acceso. Luego, importar la librería Pandas:\n",
        "```\n",
        "import pandas as pd\n",
        "```\n",
        "3. Finalmente, usar el siguiente código para leer un archivo en formato csv:\n",
        "```\n",
        "nombre_dataset = pd.read\\csv('<ruta_del_archivo.csv>')\n",
        "```"
      ],
      "metadata": {
        "id": "CwLzP9vC9d9h"
      }
    },
    {
      "cell_type": "markdown",
      "source": [
        "## Tipos de datos\n",
        "En Python hay tres tipos de datos:\n",
        "- Numéricos: int (enteros), float (decimales).\n",
        "- Texto: str (string o cadena de texto). Se escriben entre comillas dobles o simples.\n",
        "- Lógicos: bool."
      ],
      "metadata": {
        "id": "n0ngWu7pL8lf"
      }
    },
    {
      "cell_type": "code",
      "source": [
        "numero = type(4)\n",
        "string = type('Hola')\n",
        "string_2 = type('4')\n",
        "booleano = type(True)\n",
        "print(numero, string, string_2, booleano)"
      ],
      "metadata": {
        "colab": {
          "base_uri": "https://localhost:8080/"
        },
        "id": "hYTOh_rzMb9t",
        "outputId": "89428bd2-f0ca-4104-ed51-979b8c5770f2"
      },
      "execution_count": null,
      "outputs": [
        {
          "output_type": "stream",
          "name": "stdout",
          "text": [
            "<class 'int'> <class 'str'> <class 'str'> <class 'bool'>\n"
          ]
        }
      ]
    },
    {
      "cell_type": "markdown",
      "source": [
        "## Comentarios\n",
        "Los comentarios se usan para comentar el código. No aparecerán en éste."
      ],
      "metadata": {
        "id": "MrYk7W3tKQIR"
      }
    },
    {
      "cell_type": "code",
      "execution_count": null,
      "metadata": {
        "colab": {
          "base_uri": "https://localhost:8080/"
        },
        "id": "JAJNyfWsCVdf",
        "outputId": "ee6db88f-7127-424a-d1a7-cd4c853bbee5"
      },
      "outputs": [
        {
          "output_type": "stream",
          "name": "stdout",
          "text": [
            "Hola\n"
          ]
        }
      ],
      "source": [
        "# Esto es un comentario de una línea\n",
        "\n",
        "\"\"\"\n",
        "Esto es un comentario\n",
        "de varias\n",
        "líneas\n",
        "\"\"\"\n",
        "print('Hola')"
      ]
    },
    {
      "cell_type": "markdown",
      "source": [
        "## Manipulación de strings\n",
        "### `print` y `input`\n",
        "El comando `print` se usa para imprimir en pantalla una cadena de texto, mientras que `input` se usa para preguntarle información al usuario y guardarlo en una variable."
      ],
      "metadata": {
        "id": "zQCbBAIfPYg_"
      }
    },
    {
      "cell_type": "code",
      "source": [
        "# Guarda en la variable palabra\n",
        "palabra = input('Escriba una palabra \\n')\n",
        "# Imprime la variable palabra\n",
        "print('La palabra que ingrsó es:', palabra)\n",
        "# Imprime la variable palabra sustituyéndola\n",
        "print(f'La palabra que ingresó es {palabra}')\n",
        "# Concatenación\n",
        "print('Su ' + 'palabra ' + 'es ', palabra)\n",
        "# Repetición\n",
        "print(f'{palabra}'*4)"
      ],
      "metadata": {
        "colab": {
          "base_uri": "https://localhost:8080/"
        },
        "id": "00WxvDKKP9bl",
        "outputId": "88e9e04d-1068-4285-86ef-fdb7ff13bcdf"
      },
      "execution_count": null,
      "outputs": [
        {
          "output_type": "stream",
          "name": "stdout",
          "text": [
            "Escriba una palabra \n",
            "Árbol\n",
            "La palabra que ingrsó es: Árbol\n",
            "La palabra que ingresó es Árbol\n",
            "Su palabra es  Árbol\n",
            "ÁrbolÁrbolÁrbolÁrbol\n"
          ]
        }
      ]
    },
    {
      "cell_type": "markdown",
      "source": [
        "## Estructura de control\n",
        "### `if`, `elif` y `else`"
      ],
      "metadata": {
        "id": "qPxvUswPJALs"
      }
    },
    {
      "cell_type": "code",
      "source": [
        "num = int(input('Ingrese un número entre el 1 y el 20 \\n'))\n",
        "if 1 <= num <= 5:\n",
        "  print('Su número está entre el 1 y el 5')\n",
        "elif 5 < num <= 10:\n",
        "  print('Su número está entre el 6 y el 10')\n",
        "elif 10 < num <= 20:\n",
        "  print('Su número está entre el 11 y el 20')\n",
        "else:\n",
        "  print('No ingresó un número entre el 1 y el 20 >:c')"
      ],
      "metadata": {
        "colab": {
          "base_uri": "https://localhost:8080/"
        },
        "id": "MIo10bvtNd76",
        "outputId": "f8780344-a10f-43a8-8bc3-92f48b04d443"
      },
      "execution_count": null,
      "outputs": [
        {
          "output_type": "stream",
          "name": "stdout",
          "text": [
            "Ingrese un número entre el 1 y el 20 \n",
            "5\n",
            "Su número está entre el 1 y el 5\n"
          ]
        }
      ]
    },
    {
      "cell_type": "markdown",
      "source": [
        "## Ciclos"
      ],
      "metadata": {
        "id": "nc3VzijuNdS0"
      }
    },
    {
      "cell_type": "code",
      "source": [
        "lista_1=(range(1,6))\n",
        "\n",
        "for i in lista_1:\n",
        "  print(i)\n",
        "  i=i+1\n"
      ],
      "metadata": {
        "colab": {
          "base_uri": "https://localhost:8080/"
        },
        "id": "9MOt0VuZQVdo",
        "outputId": "82f2c799-c106-43bc-a19f-cb36d9a0b8f5"
      },
      "execution_count": null,
      "outputs": [
        {
          "output_type": "stream",
          "name": "stdout",
          "text": [
            "1\n",
            "2\n",
            "3\n",
            "4\n",
            "5\n"
          ]
        }
      ]
    },
    {
      "cell_type": "code",
      "source": [
        "x=0\n",
        "while x < 10:\n",
        "  x=int(input('Escriba un valor de x \\n'))\n",
        "\n",
        "print('Fin')"
      ],
      "metadata": {
        "colab": {
          "base_uri": "https://localhost:8080/"
        },
        "id": "8v9hL6BFRKdv",
        "outputId": "03b2f809-8dd6-474d-b533-9deb86cdc2fc"
      },
      "execution_count": null,
      "outputs": [
        {
          "output_type": "stream",
          "name": "stdout",
          "text": [
            "Escriba un valor de x \n",
            "3\n",
            "Escriba un valor de x \n",
            "6\n",
            "Escriba un valor de x \n",
            "10\n",
            "Fin\n"
          ]
        }
      ]
    }
  ]
}