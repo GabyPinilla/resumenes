{
  "nbformat": 4,
  "nbformat_minor": 0,
  "metadata": {
    "colab": {
      "provenance": [],
      "authorship_tag": "ABX9TyPa2jejUUZoFGtBx3R8+vRa"
    },
    "kernelspec": {
      "name": "python3",
      "display_name": "Python 3"
    },
    "language_info": {
      "name": "python"
    }
  },
  "cells": [
    {
      "cell_type": "markdown",
      "source": [
        "<h1 align=\"center\">Resumen de comandos de Python</h1>"
      ],
      "metadata": {
        "id": "YXAjnOMlJMZ5"
      }
    },
    {
      "cell_type": "markdown",
      "source": [
        "## Importación de librerías\n",
        "Para importar librerías en Python, se usa el comando `import` seguido de la librería. Se les suele agregar un alias mediante el comadno `as`, quedando la sintaxis de la siguiente forma:\n",
        "```\n",
        "import <libreria> as <alias>\n",
        "```\n",
        "Si se quiere importar solo una función de una librería:\n",
        "```\n",
        "from <libreria> import <funcion> as <alias>\n",
        "```\n",
        "Por ejemplo, para poder generar e imprimir un número aleatorio entre 1 y 10 se debe importar la librería `random` para posteriormente usar la función `randit`:\n",
        "```\n",
        "## Función que genera un número aleatorio\n",
        "import random\n",
        "num = random.randit(0,10)\n",
        "print('El número es ', num)\n",
        "```"
      ],
      "metadata": {
        "id": "LGZHZqAi7eeq"
      }
    },
    {
      "cell_type": "markdown",
      "source": [
        "En este documento, se utilizarán las siguientes librerías:"
      ],
      "metadata": {
        "id": "ugU8KWpo9Ynh"
      }
    },
    {
      "cell_type": "code",
      "source": [
        "import random"
      ],
      "metadata": {
        "id": "oy0nKy2LNshD"
      },
      "execution_count": null,
      "outputs": []
    },
    {
      "cell_type": "markdown",
      "source": [
        "## Importar archivos csv en Colab\n",
        "En Google Colaboratory, los datos de Drive se importan con Pandas de la siguiente manera:\n",
        "1. Escribir el siguiente código en el bloque de código:\n",
        "```\n",
        "from google.colab import drive\n",
        "drive.mount('/content/drive')\n",
        "```\n",
        "2. Ir a Archivos > Drive > Copiar ruta de acceso. Luego, importar la librería Pandas:\n",
        "```\n",
        "import pandas as pd\n",
        "```\n",
        "3. Finalmente, usar el siguiente código para leer un archivo en formato csv:\n",
        "```\n",
        "nombre_dataset = pd.read\\csv('<ruta_del_archivo.csv>')\n",
        "```"
      ],
      "metadata": {
        "id": "CwLzP9vC9d9h"
      }
    },
    {
      "cell_type": "markdown",
      "source": [
        "## Comentarios\n",
        "Los comentarios se usan para comentar el código. No aparecerán en éste."
      ],
      "metadata": {
        "id": "MrYk7W3tKQIR"
      }
    },
    {
      "cell_type": "code",
      "execution_count": null,
      "metadata": {
        "colab": {
          "base_uri": "https://localhost:8080/"
        },
        "id": "JAJNyfWsCVdf",
        "outputId": "ee6db88f-7127-424a-d1a7-cd4c853bbee5"
      },
      "outputs": [
        {
          "output_type": "stream",
          "name": "stdout",
          "text": [
            "Hola\n"
          ]
        }
      ],
      "source": [
        "# Esto es un comentario de una línea\n",
        "\n",
        "\"\"\"\n",
        "Esto es un comentario\n",
        "de varias\n",
        "líneas\n",
        "\"\"\"\n",
        "print('Hola')"
      ]
    },
    {
      "cell_type": "markdown",
      "source": [
        "## Tipos de datos\n",
        "En Python hay tres tipos de datos:\n",
        "- Numéricos: int (enteros), float (decimales).\n",
        "- Texto: str (string o cadena de texto). Se escriben entre comillas dobles o simples.\n",
        "- Lógicos: bool."
      ],
      "metadata": {
        "id": "n0ngWu7pL8lf"
      }
    },
    {
      "cell_type": "code",
      "source": [
        "numero = type(4)\n",
        "string = type('Hola')\n",
        "string_2 = type('4')\n",
        "booleano = type(True)\n",
        "print(numero, string, string_2, booleano)"
      ],
      "metadata": {
        "colab": {
          "base_uri": "https://localhost:8080/"
        },
        "id": "hYTOh_rzMb9t",
        "outputId": "89428bd2-f0ca-4104-ed51-979b8c5770f2"
      },
      "execution_count": null,
      "outputs": [
        {
          "output_type": "stream",
          "name": "stdout",
          "text": [
            "<class 'int'> <class 'str'> <class 'str'> <class 'bool'>\n"
          ]
        }
      ]
    },
    {
      "cell_type": "markdown",
      "source": [
        "## Variables"
      ],
      "metadata": {
        "id": "ynJh9Io3c20j"
      }
    },
    {
      "cell_type": "markdown",
      "source": [
        "En Python, las variables se escriben comenzando con una letra, por ejemplo: `var_1 = 'Hola, esto es un string'`. Se le pueden añadir números o guiones bajos, pero no se pueden usar símbolos especiales en ella, como @, ni se pueden poner palabras reservadas como nombre de una variable. Para evitar usar palabras reservadas de Python, se pueden imprimir con el comando `help('keywords')`.\n",
        "\n",
        "La sintaxis de una variable es: nom_variable_1 = valor. El valor puede ser cualquier tipo de dato, como numérico, string, booleano, etc. No olvidar que si se trata de una cadena de texto, se debe escribir entre comillas simples.\n",
        "\n",
        "El símbolo `+=` significa variable = variable + valor."
      ],
      "metadata": {
        "id": "5_Spry6wc4pA"
      }
    },
    {
      "cell_type": "code",
      "source": [
        "x_1 = 13\n",
        "x_1 += 5\n",
        "print(x_1)"
      ],
      "metadata": {
        "colab": {
          "base_uri": "https://localhost:8080/"
        },
        "id": "JWSC-OtddDXe",
        "outputId": "d1b76078-f328-466a-ee02-f688683f67d6"
      },
      "execution_count": null,
      "outputs": [
        {
          "output_type": "stream",
          "name": "stdout",
          "text": [
            "18\n"
          ]
        }
      ]
    },
    {
      "cell_type": "markdown",
      "source": [
        "### Manipulación de strings\n",
        "Los strings son cadenas de texto que contienen una secuencia de caracteres, como palabras o frases. Se definen usando comillas simples o dobles y se pueden realizar operaciones con ellas.\n",
        "#### `print` y `input`\n",
        "El comando `print` se usa para imprimir en pantalla una cadena de texto, mientras que `input` se usa para preguntarle información al usuario y guardarlo en una variable."
      ],
      "metadata": {
        "id": "zQCbBAIfPYg_"
      }
    },
    {
      "cell_type": "code",
      "source": [
        "# Guarda en la variable palabra\n",
        "palabra = input('Escriba una palabra \\n')\n",
        "# Imprime la variable palabra\n",
        "print('La palabra que ingrsó es:', palabra)\n",
        "# Imprime la variable palabra sustituyéndola\n",
        "print(f'La palabra que ingresó es {palabra}')\n",
        "# Concatenación\n",
        "print('Su ' + 'palabra ' + 'es ', palabra)\n",
        "# Repetición\n",
        "print(f'{palabra}'*4)"
      ],
      "metadata": {
        "colab": {
          "base_uri": "https://localhost:8080/"
        },
        "id": "00WxvDKKP9bl",
        "outputId": "e8207431-6478-451b-95bd-066faf6af5f8"
      },
      "execution_count": null,
      "outputs": [
        {
          "output_type": "stream",
          "name": "stdout",
          "text": [
            "Escriba una palabra \n",
            "Manzana\n",
            "La palabra que ingrsó es: Manzana\n",
            "La palabra que ingresó es Manzana\n",
            "Su palabra es  Manzana\n",
            "ManzanaManzanaManzanaManzana\n"
          ]
        }
      ]
    },
    {
      "cell_type": "markdown",
      "source": [
        "Se puede transformar un número a un string usando el comando `str`, y un string a un número usando el comando `int`. Es importante saber que un `print` siempre trabajará con strings, por lo que antes de imprimir una variable numérica se debe transformar a cadena de texto o sustituirla con `print(f'cadena de texto {variable}')`. Lo mismo ocurre con `input`, si se espera que devuelva un número se debe transformar para luego guardarla en una variable numérica."
      ],
      "metadata": {
        "id": "WcOk5RiANOLq"
      }
    },
    {
      "cell_type": "code",
      "source": [
        "# Transformar un número a string\n",
        "print('Quiero ' + str(15) + ' dulces')\n",
        "# Transformar un string a numero\n",
        "edad = int(input('¿Cuál es tu edad? \\n'))\n",
        "print('Su edad más 4 es ', edad+4)"
      ],
      "metadata": {
        "colab": {
          "base_uri": "https://localhost:8080/"
        },
        "id": "ektqSapUNcJ_",
        "outputId": "7f635f50-91fa-4061-bf80-87e96c2568f6"
      },
      "execution_count": null,
      "outputs": [
        {
          "output_type": "stream",
          "name": "stdout",
          "text": [
            "Quiero 15 dulces\n",
            "¿Cuál es tu edad? \n",
            "23\n",
            "Su edad más 4 es  27\n"
          ]
        }
      ]
    },
    {
      "cell_type": "markdown",
      "source": [
        "### Operaciones con strings\n"
      ],
      "metadata": {
        "id": "ix4Q5VHbOtZ4"
      }
    },
    {
      "cell_type": "code",
      "source": [
        "texto = 'Hola a todos. Hola, Josefa'\n",
        "# 1. lower(): convierte los caracteres a minusculas\n",
        "texto_1 = texto.lower()\n",
        "print('1. Cadena original: ',texto,'\\nLos caracteres se convirtieron a minúsculas:\\n',texto_1)\n",
        "\n",
        "# 2. upper(): convierte los caracteres a mayusculas\n",
        "texto_2 = texto.upper()\n",
        "print('2. Cadena original: ',texto,'\\nLos caracteres se convirtieron a mayúsculas:\\n',texto_2)\n",
        "\n",
        "# 3. replace(sub, new_sub): reemplaza texto por uno nuevo\n",
        "texto_3 = texto.replace('todos','Marta')\n",
        "print('3. Cadena original: ',texto,'\\nSe reemplazó la palabra todos por Marta:\\n',texto_3)\n",
        "\n",
        "# 4. split(sep): divide una cadena en una lista con un separador\n",
        "textonuevo = 'Hola,Josefa'\n",
        "lista = textonuevo.split(',')\n",
        "print('4. Cadena original: ',textonuevo,'\\nEl string original se divió en una lista:\\n',lista)\n",
        "\n",
        "# 5. strip(): elimina los espacios en blanco al inicio y final de una cadena\n",
        "otrotexto = '\tHola\t'\n",
        "texto_4 = otrotexto.strip()\n",
        "print('5. Cadena original: ',otrotexto,'\\nSe eliminaron los espacios en blanco de la cadena:\\n',texto_4)"
      ],
      "metadata": {
        "colab": {
          "base_uri": "https://localhost:8080/"
        },
        "id": "eh0nWe_1O4vd",
        "outputId": "26051fed-b467-4182-ae14-9d634ea7cc14"
      },
      "execution_count": null,
      "outputs": [
        {
          "output_type": "stream",
          "name": "stdout",
          "text": [
            "1. Cadena original:  Hola a todos. Hola, Josefa \n",
            "Los caracteres se convirtieron a minúsculas:\n",
            " hola a todos. hola, josefa\n",
            "2. Cadena original:  Hola a todos. Hola, Josefa \n",
            "Los caracteres se convirtieron a mayúsculas:\n",
            " HOLA A TODOS. HOLA, JOSEFA\n",
            "3. Cadena original:  Hola a todos. Hola, Josefa \n",
            "Se reemplazó la palabra todos por Marta:\n",
            " Hola a Marta. Hola, Josefa\n",
            "4. Cadena original:  Hola,Josefa \n",
            "El string original se divió en una lista:\n",
            " ['Hola', 'Josefa']\n",
            "5. Cadena original:  \tHola\t \n",
            "Se eliminaron los espacios en blanco de la cadena:\n",
            " Hola\n"
          ]
        }
      ]
    },
    {
      "cell_type": "markdown",
      "source": [
        "## Estructura de datos"
      ],
      "metadata": {
        "id": "cT2XMf3oRr-F"
      }
    },
    {
      "cell_type": "markdown",
      "source": [
        "### Listas\n",
        "Las listas o arreglos en Python son secuencias de elementos ordenados por un índice, el cual inicia en el 0. Los elementos dentro de una lista se pueden editar, añadir nuevos o eliminar, además de poder contener diferentes tipos de datos y elementos duplicados."
      ],
      "metadata": {
        "id": "XqfKK7joRuSG"
      }
    },
    {
      "cell_type": "code",
      "source": [
        "# Crear una lista\n",
        "lista_1 = ['elemento0', 'elemento1', 'elemento2']\n",
        "print('Lista:\\n',lista_1)\n",
        "\n",
        "# Para acceder a los elementos de la lista:\n",
        "print('El primer elemento es: ',lista_1[0])\n",
        "\n",
        "print('El tercer elemento es: ',lista_1[2]) # o print(lista_1[-1])\n",
        "\n",
        "# Para agregar un elemento al final de la lista\n",
        "lista_1.append('elemento3')\n",
        "print('Lista más un elemento agregado al final:\\n',lista_1)\n",
        "\n",
        "# Para obtener la longitud\n",
        "longitud = len(lista_1)\n",
        "print('La cantidad de elementos que tiene la nueva lista es: ',longitud)"
      ],
      "metadata": {
        "colab": {
          "base_uri": "https://localhost:8080/"
        },
        "id": "BTdgTAmASJ2B",
        "outputId": "bef43eea-4ba1-49bb-c241-94e3f2c44573"
      },
      "execution_count": null,
      "outputs": [
        {
          "output_type": "stream",
          "name": "stdout",
          "text": [
            "Lista:\n",
            " ['elemento0', 'elemento1', 'elemento2']\n",
            "El primer elemento es:  elemento0\n",
            "El tercer elemento es:  elemento2\n",
            "Lista más un elemento agregado al final:\n",
            " ['elemento0', 'elemento1', 'elemento2', 'elemento3']\n",
            "La cantidad de elementos que tiene la nueva lista es:  4\n"
          ]
        }
      ]
    },
    {
      "cell_type": "markdown",
      "source": [
        "### Diccionarios\n",
        "Los diccionarios son una colección de par clave-valor. Su sintaxis es `diccionario={clave:valor}`."
      ],
      "metadata": {
        "id": "urSeAm7zRvao"
      }
    },
    {
      "cell_type": "code",
      "source": [
        "diccionario_1={'nombre':'Marcelo',\n",
        "               'apellido':'Soto',\n",
        "               'ciudad':'Santiago',\n",
        "               'edad':38,\n",
        "               'profesion':'Presidente'}\n",
        "\n",
        "# Imprimir un valor\n",
        "print({diccionario_1['profesion']})\n",
        "\n",
        "# Agregar un nuevo par clave-valor\n",
        "diccionario_1['estado civil'] = 'Soltero'\n",
        "print(diccionario_1)"
      ],
      "metadata": {
        "colab": {
          "base_uri": "https://localhost:8080/"
        },
        "id": "5O9N6-dpTBG0",
        "outputId": "d829d09f-1355-41d6-80b9-a21afa12b6cf"
      },
      "execution_count": null,
      "outputs": [
        {
          "output_type": "stream",
          "name": "stdout",
          "text": [
            "{'Presidente'}\n",
            "{'nombre': 'Marcelo', 'apellido': 'Soto', 'ciudad': 'Santiago', 'edad': 38, 'profesion': 'Presidente', 'estado civil': 'Soltero'}\n"
          ]
        }
      ]
    },
    {
      "cell_type": "markdown",
      "source": [
        "### Tuplas\n",
        "Las tuplas es un conjunto de datos ordenados e inmutable. Puede contener elementos de diferentes tipos, sin embargo, no se pueden modificar después de haber sido creada."
      ],
      "metadata": {
        "id": "Jj7ezBiwRx0e"
      }
    },
    {
      "cell_type": "code",
      "source": [
        "tupla_1=('elemento0', 'elemento1', 'elemento3')\n",
        "\n",
        "# Para que devuelva 'elemento0'\n",
        "tupla_1[0]"
      ],
      "metadata": {
        "colab": {
          "base_uri": "https://localhost:8080/",
          "height": 36
        },
        "id": "4q29PS38Uepc",
        "outputId": "adcdf01c-b375-4473-810b-3cd542468620"
      },
      "execution_count": null,
      "outputs": [
        {
          "output_type": "execute_result",
          "data": {
            "text/plain": [
              "'elemento0'"
            ],
            "application/vnd.google.colaboratory.intrinsic+json": {
              "type": "string"
            }
          },
          "metadata": {},
          "execution_count": 21
        }
      ]
    },
    {
      "cell_type": "markdown",
      "source": [
        "### Set\n",
        "Un set es una colección desordenada de elementos que no se pueden repetir. Si esto ocurre, guardará solo los que no se repiten."
      ],
      "metadata": {
        "id": "wxbcyIpIR0YO"
      }
    },
    {
      "cell_type": "code",
      "source": [
        "set_1={'manzana', 'pera', 'banana', 'pera'}\n",
        "print(set_1)"
      ],
      "metadata": {
        "colab": {
          "base_uri": "https://localhost:8080/"
        },
        "id": "wVZIbZTEVY0x",
        "outputId": "c3dcb14a-4b69-4bb0-fd73-a2d71f295a6e"
      },
      "execution_count": null,
      "outputs": [
        {
          "output_type": "stream",
          "name": "stdout",
          "text": [
            "{'pera', 'banana', 'manzana'}\n"
          ]
        }
      ]
    },
    {
      "cell_type": "markdown",
      "source": [
        "## Estructura de control"
      ],
      "metadata": {
        "id": "qPxvUswPJALs"
      }
    },
    {
      "cell_type": "markdown",
      "source": [
        "### Condicional `if`, `elif` y `else`"
      ],
      "metadata": {
        "id": "ygXsXkdJK9YD"
      }
    },
    {
      "cell_type": "code",
      "source": [
        "num = int(input('Ingrese un número entre el 1 y el 20 \\n'))\n",
        "if 1 <= num <= 5:\n",
        "  print('Su número está entre el 1 y el 5')\n",
        "elif 5 < num <= 10:\n",
        "  print('Su número está entre el 6 y el 10')\n",
        "elif 10 < num <= 20:\n",
        "  print('Su número está entre el 11 y el 20')\n",
        "else:\n",
        "  print('No ingresó un número entre el 1 y el 20 >:c')"
      ],
      "metadata": {
        "colab": {
          "base_uri": "https://localhost:8080/"
        },
        "id": "MIo10bvtNd76",
        "outputId": "f8780344-a10f-43a8-8bc3-92f48b04d443"
      },
      "execution_count": null,
      "outputs": [
        {
          "output_type": "stream",
          "name": "stdout",
          "text": [
            "Ingrese un número entre el 1 y el 20 \n",
            "5\n",
            "Su número está entre el 1 y el 5\n"
          ]
        }
      ]
    },
    {
      "cell_type": "markdown",
      "source": [
        "### Ciclo `for`"
      ],
      "metadata": {
        "id": "nc3VzijuNdS0"
      }
    },
    {
      "cell_type": "code",
      "source": [
        "lista_1=(range(1,6))\n",
        "\n",
        "for i in lista_1:\n",
        "  print(i)\n",
        "  i=i+1\n"
      ],
      "metadata": {
        "colab": {
          "base_uri": "https://localhost:8080/"
        },
        "id": "9MOt0VuZQVdo",
        "outputId": "82f2c799-c106-43bc-a19f-cb36d9a0b8f5"
      },
      "execution_count": null,
      "outputs": [
        {
          "output_type": "stream",
          "name": "stdout",
          "text": [
            "1\n",
            "2\n",
            "3\n",
            "4\n",
            "5\n"
          ]
        }
      ]
    },
    {
      "cell_type": "markdown",
      "source": [
        "### Ciclo `while`"
      ],
      "metadata": {
        "id": "EY-PuUw4LJgc"
      }
    },
    {
      "cell_type": "code",
      "source": [
        "x=0\n",
        "while x < 10:\n",
        "  x=int(input('Escriba un valor de x \\n'))\n",
        "\n",
        "print('Fin')"
      ],
      "metadata": {
        "colab": {
          "base_uri": "https://localhost:8080/"
        },
        "id": "8v9hL6BFRKdv",
        "outputId": "03b2f809-8dd6-474d-b533-9deb86cdc2fc"
      },
      "execution_count": null,
      "outputs": [
        {
          "output_type": "stream",
          "name": "stdout",
          "text": [
            "Escriba un valor de x \n",
            "3\n",
            "Escriba un valor de x \n",
            "6\n",
            "Escriba un valor de x \n",
            "10\n",
            "Fin\n"
          ]
        }
      ]
    },
    {
      "cell_type": "markdown",
      "source": [
        "## Emojis\n",
        "Los emojis que se pueden imprimir en pantalla en Python son caracteres Unicode."
      ],
      "metadata": {
        "id": "jKlvd7E_kx2Z"
      }
    },
    {
      "cell_type": "code",
      "source": [
        "print('Cara sonriente: ' + '\\U0001F60A')\n",
        "print('Globo terráqueo: ' + '\\U0001F30D')\n",
        "print('Pizza: ' + '\\U0001F355')\n",
        "print('Arcoíris: ' + '\\U0001F308')\n",
        "print('Nota musical: ' + '\\U0001F3B5')\n",
        "print('Libros: ' + '\\U0001F4DA')"
      ],
      "metadata": {
        "colab": {
          "base_uri": "https://localhost:8080/"
        },
        "id": "h1lO2Vdnk-8u",
        "outputId": "28510c70-5819-4254-f734-22c5f38bac34"
      },
      "execution_count": 3,
      "outputs": [
        {
          "output_type": "stream",
          "name": "stdout",
          "text": [
            "Cara sonriente: 😊\n",
            "Globo terráqueo: 🌍\n",
            "Pizza: 🍕\n",
            "Arcoíris: 🌈\n",
            "Nota musical: 🎵\n",
            "Libros: 📚\n"
          ]
        }
      ]
    }
  ]
}