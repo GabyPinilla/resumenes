{
  "nbformat": 4,
  "nbformat_minor": 0,
  "metadata": {
    "colab": {
      "provenance": [],
      "authorship_tag": "ABX9TyMx26OqAH5xQF6fAjTuLIWv",
      "include_colab_link": true
    },
    "kernelspec": {
      "name": "python3",
      "display_name": "Python 3"
    },
    "language_info": {
      "name": "python"
    }
  },
  "cells": [
    {
      "cell_type": "markdown",
      "metadata": {
        "id": "view-in-github",
        "colab_type": "text"
      },
      "source": [
        "<a href=\"https://colab.research.google.com/github/GabyPinilla/resumenes/blob/main/Resumen_Python.ipynb\" target=\"_parent\"><img src=\"https://colab.research.google.com/assets/colab-badge.svg\" alt=\"Open In Colab\"/></a>"
      ]
    },
    {
      "cell_type": "markdown",
      "source": [
        "# Resumen de comandos de Python\n"
      ],
      "metadata": {
        "id": "axPVfXu7FSUY"
      }
    },
    {
      "cell_type": "code",
      "source": [
        "# Importación de librerías\n",
        "import random"
      ],
      "metadata": {
        "id": "oy0nKy2LNshD"
      },
      "execution_count": null,
      "outputs": []
    },
    {
      "cell_type": "markdown",
      "source": [
        "## Tipos de datos\n",
        "En Python hay tres tipos de datos:\n",
        "- Numéricos: int (enteros), float (decimales).\n",
        "- Texto: str (string o cadena de texto). Se escriben entre comillas dobles o simples.\n",
        "- Lógicos: bool."
      ],
      "metadata": {
        "id": "n0ngWu7pL8lf"
      }
    },
    {
      "cell_type": "code",
      "source": [
        "numero = type(4)\n",
        "string = type('Hola')\n",
        "string_2 = type('4')\n",
        "booleano = type(True)\n",
        "print(numero, string, string_2, booleano)"
      ],
      "metadata": {
        "colab": {
          "base_uri": "https://localhost:8080/"
        },
        "id": "hYTOh_rzMb9t",
        "outputId": "89428bd2-f0ca-4104-ed51-979b8c5770f2"
      },
      "execution_count": null,
      "outputs": [
        {
          "output_type": "stream",
          "name": "stdout",
          "text": [
            "<class 'int'> <class 'str'> <class 'str'> <class 'bool'>\n"
          ]
        }
      ]
    },
    {
      "cell_type": "markdown",
      "source": [
        "## Comentarios\n",
        "Los comentarios se usan para comentar el código. No aparecerán en éste."
      ],
      "metadata": {
        "id": "MrYk7W3tKQIR"
      }
    },
    {
      "cell_type": "code",
      "execution_count": null,
      "metadata": {
        "colab": {
          "base_uri": "https://localhost:8080/"
        },
        "id": "JAJNyfWsCVdf",
        "outputId": "ee6db88f-7127-424a-d1a7-cd4c853bbee5"
      },
      "outputs": [
        {
          "output_type": "stream",
          "name": "stdout",
          "text": [
            "Hola\n"
          ]
        }
      ],
      "source": [
        "# Esto es un comentario de una línea\n",
        "\n",
        "\"\"\"\n",
        "Esto es un comentario\n",
        "de varias\n",
        "líneas\n",
        "\"\"\"\n",
        "print('Hola')"
      ]
    },
    {
      "cell_type": "markdown",
      "source": [
        "## Manipulación de strings\n",
        "### `print` y `input`\n",
        "El comando `print` se usa para imprimir en pantalla una cadena de texto, mientras que `input` se usa para preguntarle información al usuario y guardarlo en una variable."
      ],
      "metadata": {
        "id": "zQCbBAIfPYg_"
      }
    },
    {
      "cell_type": "code",
      "source": [
        "# Guarda en la variable palabra\n",
        "palabra = input('Escriba una palabra \\n')\n",
        "# Imprime la variable palabra\n",
        "print('La palabra que ingrsó es:', palabra)\n",
        "# Imprime la variable palabra sustituyéndola\n",
        "print(f'La palabra que ingresó es {palabra}')\n",
        "# Concatenación\n",
        "print('Su ' + 'palabra ' + 'es ', palabra)\n",
        "# Repetición\n",
        "print(f'{palabra}'*4)"
      ],
      "metadata": {
        "colab": {
          "base_uri": "https://localhost:8080/"
        },
        "id": "00WxvDKKP9bl",
        "outputId": "88e9e04d-1068-4285-86ef-fdb7ff13bcdf"
      },
      "execution_count": null,
      "outputs": [
        {
          "output_type": "stream",
          "name": "stdout",
          "text": [
            "Escriba una palabra \n",
            "Árbol\n",
            "La palabra que ingrsó es: Árbol\n",
            "La palabra que ingresó es Árbol\n",
            "Su palabra es  Árbol\n",
            "ÁrbolÁrbolÁrbolÁrbol\n"
          ]
        }
      ]
    },
    {
      "cell_type": "markdown",
      "source": [
        "## Estructura de control\n",
        "### `if`, `elif` y `else`"
      ],
      "metadata": {
        "id": "qPxvUswPJALs"
      }
    },
    {
      "cell_type": "code",
      "source": [
        "num = int(input('Ingrese un número entre el 1 y el 20 \\n'))\n",
        "if 1 <= num <= 5:\n",
        "  print('Su número está entre el 1 y el 5')\n",
        "elif 5 < num <= 10:\n",
        "  print('Su número está entre el 6 y el 10')\n",
        "elif 10 < num <= 20:\n",
        "  print('Su número está entre el 11 y el 20')\n",
        "else:\n",
        "  print('No ingresó un número entre el 1 y el 20 >:c')"
      ],
      "metadata": {
        "colab": {
          "base_uri": "https://localhost:8080/"
        },
        "id": "MIo10bvtNd76",
        "outputId": "f8780344-a10f-43a8-8bc3-92f48b04d443"
      },
      "execution_count": null,
      "outputs": [
        {
          "output_type": "stream",
          "name": "stdout",
          "text": [
            "Ingrese un número entre el 1 y el 20 \n",
            "5\n",
            "Su número está entre el 1 y el 5\n"
          ]
        }
      ]
    },
    {
      "cell_type": "markdown",
      "source": [
        "## Ciclos"
      ],
      "metadata": {
        "id": "nc3VzijuNdS0"
      }
    },
    {
      "cell_type": "code",
      "source": [
        "lista_1=(range(1,6))\n",
        "\n",
        "for i in lista_1:\n",
        "  print(i)\n",
        "  i=i+1\n"
      ],
      "metadata": {
        "colab": {
          "base_uri": "https://localhost:8080/"
        },
        "id": "9MOt0VuZQVdo",
        "outputId": "82f2c799-c106-43bc-a19f-cb36d9a0b8f5"
      },
      "execution_count": null,
      "outputs": [
        {
          "output_type": "stream",
          "name": "stdout",
          "text": [
            "1\n",
            "2\n",
            "3\n",
            "4\n",
            "5\n"
          ]
        }
      ]
    },
    {
      "cell_type": "code",
      "source": [
        "x=0\n",
        "while x < 10:\n",
        "  x=int(input('Escriba un valor de x \\n'))\n",
        "\n",
        "print('Fin')"
      ],
      "metadata": {
        "colab": {
          "base_uri": "https://localhost:8080/"
        },
        "id": "8v9hL6BFRKdv",
        "outputId": "03b2f809-8dd6-474d-b533-9deb86cdc2fc"
      },
      "execution_count": null,
      "outputs": [
        {
          "output_type": "stream",
          "name": "stdout",
          "text": [
            "Escriba un valor de x \n",
            "3\n",
            "Escriba un valor de x \n",
            "6\n",
            "Escriba un valor de x \n",
            "10\n",
            "Fin\n"
          ]
        }
      ]
    }
  ]
}