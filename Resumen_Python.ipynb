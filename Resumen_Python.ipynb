{
 "cells": [
  {
   "cell_type": "markdown",
   "metadata": {
    "id": "YXAjnOMlJMZ5"
   },
   "source": [
    "<h1 align=\"center\">Resumen de comandos de Python</h1>"
   ]
  },
  {
   "cell_type": "markdown",
   "metadata": {
    "id": "LGZHZqAi7eeq"
   },
   "source": [
    "## Importación de librerías\n",
    "Para importar librerías en Python, se usa el comando `import` seguido de la librería. Se les suele agregar un alias mediante el comadno `as`, quedando la sintaxis de la siguiente forma:\n",
    "```\n",
    "import <libreria> as <alias>\n",
    "```\n",
    "Si se quiere importar solo una función de una librería:\n",
    "```\n",
    "from <libreria> import <funcion> as <alias>\n",
    "```\n",
    "Por ejemplo, para poder generar e imprimir un número aleatorio entre 1 y 10 se debe importar la librería `random` para posteriormente usar la función `randit`:\n",
    "```\n",
    "## Función que genera un número aleatorio\n",
    "import random\n",
    "num = random.randit(0,10)\n",
    "print('El número es ', num)\n",
    "```"
   ]
  },
  {
   "cell_type": "markdown",
   "metadata": {
    "id": "ugU8KWpo9Ynh"
   },
   "source": [
    "En este documento, se utilizarán las siguientes librerías:"
   ]
  },
  {
   "cell_type": "code",
   "execution_count": 1,
   "metadata": {
    "id": "oy0nKy2LNshD"
   },
   "outputs": [],
   "source": [
    "import random\n",
    "import numpy as np\n",
    "import matplotlib.pyplot as plt\n",
    "import pandas as pd"
   ]
  },
  {
   "cell_type": "markdown",
   "metadata": {
    "id": "CwLzP9vC9d9h"
   },
   "source": [
    "## Importar archivos csv en Colab\n",
    "En Google Colaboratory, los datos de Drive se importan con Pandas de la siguiente manera:\n",
    "1. Escribir el siguiente código en el bloque de código:\n",
    "```\n",
    "from google.colab import drive\n",
    "drive.mount('/content/drive')\n",
    "```\n",
    "2. Ir a Archivos > Drive > Copiar ruta de acceso. Luego, importar la librería Pandas:\n",
    "```\n",
    "import pandas as pd\n",
    "```\n",
    "3. Finalmente, usar el siguiente código para leer un archivo en formato csv:\n",
    "```\n",
    "nombre_dataset = pd.read_csv('<ruta_del_archivo.csv>')\n",
    "```"
   ]
  },
  {
   "cell_type": "markdown",
   "metadata": {
    "id": "MrYk7W3tKQIR"
   },
   "source": [
    "## Comentarios\n",
    "Los comentarios se usan para comentar el código. No aparecerán en éste."
   ]
  },
  {
   "cell_type": "code",
   "execution_count": 2,
   "metadata": {
    "colab": {
     "base_uri": "https://localhost:8080/"
    },
    "executionInfo": {
     "elapsed": 284,
     "status": "ok",
     "timestamp": 1696296800113,
     "user": {
      "displayName": "Gabriela Pinilla",
      "userId": "06217804010701217129"
     },
     "user_tz": 180
    },
    "id": "JAJNyfWsCVdf",
    "outputId": "ee6db88f-7127-424a-d1a7-cd4c853bbee5"
   },
   "outputs": [
    {
     "name": "stdout",
     "output_type": "stream",
     "text": [
      "Hola\n"
     ]
    }
   ],
   "source": [
    "# Esto es un comentario de una línea\n",
    "\n",
    "\"\"\"\n",
    "Esto es un comentario\n",
    "de varias\n",
    "líneas\n",
    "\"\"\"\n",
    "print('Hola')"
   ]
  },
  {
   "cell_type": "markdown",
   "metadata": {
    "id": "n0ngWu7pL8lf"
   },
   "source": [
    "## Tipos de datos\n",
    "En Python hay tres tipos de datos:\n",
    "- Numéricos: int (enteros), float (decimales).\n",
    "- Texto: str (string o cadena de texto). Se escriben entre comillas dobles o simples.\n",
    "- Lógicos: bool."
   ]
  },
  {
   "cell_type": "code",
   "execution_count": 3,
   "metadata": {
    "colab": {
     "base_uri": "https://localhost:8080/"
    },
    "executionInfo": {
     "elapsed": 3,
     "status": "ok",
     "timestamp": 1696297365547,
     "user": {
      "displayName": "Gabriela Pinilla",
      "userId": "06217804010701217129"
     },
     "user_tz": 180
    },
    "id": "hYTOh_rzMb9t",
    "outputId": "89428bd2-f0ca-4104-ed51-979b8c5770f2"
   },
   "outputs": [
    {
     "name": "stdout",
     "output_type": "stream",
     "text": [
      "<class 'int'> <class 'str'> <class 'str'> <class 'bool'>\n"
     ]
    }
   ],
   "source": [
    "numero = type(4)\n",
    "string = type('Hola')\n",
    "string_2 = type('4')\n",
    "booleano = type(True)\n",
    "print(numero, string, string_2, booleano)"
   ]
  },
  {
   "cell_type": "markdown",
   "metadata": {
    "id": "ynJh9Io3c20j"
   },
   "source": [
    "## Variables"
   ]
  },
  {
   "cell_type": "markdown",
   "metadata": {
    "id": "5_Spry6wc4pA"
   },
   "source": [
    "En Python, las variables se escriben comenzando con una letra, por ejemplo: `var_1 = 'Hola, esto es un string'`. Se le pueden añadir números o guiones bajos, pero no se pueden usar símbolos especiales en ella, como @, ni se pueden poner palabras reservadas como nombre de una variable. Para evitar usar palabras reservadas de Python, se pueden imprimir con el comando `help('keywords')`.\n",
    "\n",
    "La sintaxis de una variable es: nom_variable_1 = valor. El valor puede ser cualquier tipo de dato, como numérico, string, booleano, etc. No olvidar que si se trata de una cadena de texto, se debe escribir entre comillas simples.\n",
    "\n",
    "El símbolo `+=` significa variable = variable + valor."
   ]
  },
  {
   "cell_type": "code",
   "execution_count": 4,
   "metadata": {
    "colab": {
     "base_uri": "https://localhost:8080/"
    },
    "executionInfo": {
     "elapsed": 3,
     "status": "ok",
     "timestamp": 1696469467743,
     "user": {
      "displayName": "Gabriela Pinilla",
      "userId": "06217804010701217129"
     },
     "user_tz": 180
    },
    "id": "JWSC-OtddDXe",
    "outputId": "d1b76078-f328-466a-ee02-f688683f67d6"
   },
   "outputs": [
    {
     "name": "stdout",
     "output_type": "stream",
     "text": [
      "18\n"
     ]
    }
   ],
   "source": [
    "x_1 = 13\n",
    "x_1 += 5\n",
    "print(x_1)"
   ]
  },
  {
   "cell_type": "markdown",
   "metadata": {
    "id": "yps_OSM5Zm4M"
   },
   "source": [
    "## Identación\n",
    "La identación es un espacio o sangrado que permite marcar los bloques de código. Se insertan con la tecla **Tab** a la izquierda de las líneas de código.\n",
    "\n",
    "El siguiente ejemplo se divide en tres bloques, cada una con su identación. Al entrar al ciclo `for`, todas las instrucciones que éste contenga llevarán una identación. De lo contrario, se asumirá que dicha instrucción está fuera del ciclo. Por esta razón el `if` lleva una identación. Lo mismo ocurre con las instrucciones dentro del `if`. Cuando se terminan de ejecutar, cambia la identación señalando que ya está fuera de este, imprimiendo que se ha ejecutado un ciclo.\n"
   ]
  },
  {
   "cell_type": "code",
   "execution_count": 5,
   "metadata": {
    "colab": {
     "base_uri": "https://localhost:8080/"
    },
    "executionInfo": {
     "elapsed": 427,
     "status": "ok",
     "timestamp": 1696872172083,
     "user": {
      "displayName": "Gabriela Pinilla",
      "userId": "06217804010701217129"
     },
     "user_tz": 180
    },
    "id": "k5ybstvebKjG",
    "outputId": "27c8cec1-5b48-46f6-8691-c3f13dda881a"
   },
   "outputs": [
    {
     "name": "stdout",
     "output_type": "stream",
     "text": [
      "Se ha ejecutado un ciclo\n",
      "Se ha ejecutado un ciclo\n",
      "6\n",
      "Se ha ejecutado un ciclo\n",
      "Se ha ejecutado un ciclo\n",
      "8\n",
      "Se ha ejecutado un ciclo\n",
      "Se ha ejecutado un ciclo\n",
      "20\n",
      "Se ha ejecutado un ciclo\n",
      "Fin del ciclo\n"
     ]
    }
   ],
   "source": [
    "for a in [1,3,6,7,8,9,20]: # Bloque 1\n",
    "  if a%2==0: # Bloque 2\n",
    "    print(a) # Bloque 3\n",
    "  print('Se ha ejecutado un ciclo') # Cont Bloque 2\n",
    "print('Fin del ciclo') # Cont Bloque 1"
   ]
  },
  {
   "cell_type": "markdown",
   "metadata": {
    "id": "zQCbBAIfPYg_"
   },
   "source": [
    "### Manipulación de strings\n",
    "Los strings son cadenas de texto que contienen una secuencia de caracteres, como palabras o frases. Se definen usando comillas simples o dobles y se pueden realizar operaciones con ellas.\n",
    "#### `print` y `input`\n",
    "El comando `print` se usa para imprimir en pantalla una cadena de texto, mientras que `input` se usa para preguntarle información al usuario y guardarlo en una variable."
   ]
  },
  {
   "cell_type": "code",
   "execution_count": 6,
   "metadata": {
    "colab": {
     "base_uri": "https://localhost:8080/"
    },
    "executionInfo": {
     "elapsed": 3793,
     "status": "ok",
     "timestamp": 1696364606280,
     "user": {
      "displayName": "Gabriela Pinilla",
      "userId": "06217804010701217129"
     },
     "user_tz": 180
    },
    "id": "00WxvDKKP9bl",
    "outputId": "e8207431-6478-451b-95bd-066faf6af5f8"
   },
   "outputs": [
    {
     "name": "stdin",
     "output_type": "stream",
     "text": [
      "Escriba una palabra \n",
      " Zanahoria\n"
     ]
    },
    {
     "name": "stdout",
     "output_type": "stream",
     "text": [
      "La palabra que ingrsó es: Zanahoria\n",
      "La palabra que ingresó es Zanahoria\n",
      "Su palabra es  Zanahoria\n",
      "ZanahoriaZanahoriaZanahoriaZanahoria\n"
     ]
    }
   ],
   "source": [
    "# Guarda en la variable palabra\n",
    "palabra = input('Escriba una palabra \\n')\n",
    "# Imprime la variable palabra\n",
    "print('La palabra que ingrsó es:', palabra)\n",
    "# Imprime la variable palabra sustituyéndola\n",
    "print(f'La palabra que ingresó es {palabra}')\n",
    "# Concatenación\n",
    "print('Su ' + 'palabra ' + 'es ', palabra)\n",
    "# Repetición\n",
    "print(f'{palabra}'*4)"
   ]
  },
  {
   "cell_type": "markdown",
   "metadata": {
    "id": "WcOk5RiANOLq"
   },
   "source": [
    "Se puede transformar un número a un string usando el comando `str`, y un string a un número usando el comando `int`. Es importante saber que un `print` siempre trabajará con strings, por lo que antes de imprimir una variable numérica se debe transformar a cadena de texto o sustituirla con `print(f'cadena de texto {variable}')`. Lo mismo ocurre con `input`, si se espera que devuelva un número se debe transformar para luego guardarla en una variable numérica."
   ]
  },
  {
   "cell_type": "code",
   "execution_count": 7,
   "metadata": {
    "colab": {
     "base_uri": "https://localhost:8080/"
    },
    "executionInfo": {
     "elapsed": 2868,
     "status": "ok",
     "timestamp": 1696364730489,
     "user": {
      "displayName": "Gabriela Pinilla",
      "userId": "06217804010701217129"
     },
     "user_tz": 180
    },
    "id": "ektqSapUNcJ_",
    "outputId": "7f635f50-91fa-4061-bf80-87e96c2568f6"
   },
   "outputs": [
    {
     "name": "stdout",
     "output_type": "stream",
     "text": [
      "Quiero 15 dulces\n"
     ]
    },
    {
     "name": "stdin",
     "output_type": "stream",
     "text": [
      "¿Cuál es tu edad? \n",
      " 24\n"
     ]
    },
    {
     "name": "stdout",
     "output_type": "stream",
     "text": [
      "Su edad más 4 es  28\n"
     ]
    }
   ],
   "source": [
    "# Transformar un número a string\n",
    "print('Quiero ' + str(15) + ' dulces')\n",
    "# Transformar un string a numero\n",
    "edad = int(input('¿Cuál es tu edad? \\n'))\n",
    "print('Su edad más 4 es ', edad+4)"
   ]
  },
  {
   "cell_type": "markdown",
   "metadata": {
    "id": "ix4Q5VHbOtZ4"
   },
   "source": [
    "### Operaciones con strings\n"
   ]
  },
  {
   "cell_type": "code",
   "execution_count": 8,
   "metadata": {
    "colab": {
     "base_uri": "https://localhost:8080/"
    },
    "executionInfo": {
     "elapsed": 443,
     "status": "ok",
     "timestamp": 1696516133553,
     "user": {
      "displayName": "Gabriela Pinilla",
      "userId": "06217804010701217129"
     },
     "user_tz": 180
    },
    "id": "eh0nWe_1O4vd",
    "outputId": "dc7ef71b-7640-4a7f-e5bc-5998faac043d"
   },
   "outputs": [
    {
     "name": "stdout",
     "output_type": "stream",
     "text": [
      "1. Cadena original:  Hola a todos. Hola, Josefa \n",
      "Los caracteres se convirtieron a minúsculas:\n",
      " hola a todos. hola, josefa\n",
      "2. Cadena original:  Hola a todos. Hola, Josefa \n",
      "Los caracteres se convirtieron a mayúsculas:\n",
      " HOLA A TODOS. HOLA, JOSEFA\n",
      "3. Cadena original:  Hola a todos. Hola, Josefa \n",
      "Se reemplazó la palabra todos por Marta:\n",
      " Hola a Marta. Hola, Josefa\n",
      "3. Cadena original:  Hola a todos. Hola, Josefa \n",
      "Se quitaron los espacios en blanco:\n",
      " Holaatodos.Hola,Josefa\n",
      "4. Cadena original:  Hola,Josefa \n",
      "El string original se divió en una lista:\n",
      " ['Hola', 'Josefa']\n",
      "5. Cadena original:  \tHola\t \n",
      "Se eliminaron los espacios en blanco de la cadena:\n",
      " Hola\n",
      "6. Cadena original:  Hola a todos. Hola, Josefa \n",
      "¿Cuántas veces aparece la palabra Hola en el string?  2\n"
     ]
    }
   ],
   "source": [
    "texto = 'Hola a todos. Hola, Josefa'\n",
    "# 1. lower(): convierte los caracteres a minusculas\n",
    "texto_1 = texto.lower()\n",
    "print('1. Cadena original: ',texto,'\\nLos caracteres se convirtieron a minúsculas:\\n',texto_1)\n",
    "\n",
    "# 2. upper(): convierte los caracteres a mayusculas\n",
    "texto_2 = texto.upper()\n",
    "print('2. Cadena original: ',texto,'\\nLos caracteres se convirtieron a mayúsculas:\\n',texto_2)\n",
    "\n",
    "# 3. replace(sub, new_sub): reemplaza texto por uno nuevo\n",
    "texto_3 = texto.replace('todos','Marta')\n",
    "print('3. Cadena original: ',texto,'\\nSe reemplazó la palabra todos por Marta:\\n',texto_3)\n",
    "\n",
    "texto_3 = texto.replace(\" \" , \"\")\n",
    "print('3. Cadena original: ',texto,'\\nSe quitaron los espacios en blanco:\\n',texto_3)\n",
    "\n",
    "# 4. split(sep): divide una cadena en una lista con un separador\n",
    "textonuevo = 'Hola,Josefa'\n",
    "lista = textonuevo.split(',')\n",
    "print('4. Cadena original: ',textonuevo,'\\nEl string original se divió en una lista:\\n',lista)\n",
    "\n",
    "# 5. strip(): elimina los espacios en blanco al inicio y final de una cadena\n",
    "otrotexto = '\tHola\t'\n",
    "texto_4 = otrotexto.strip()\n",
    "print('5. Cadena original: ',otrotexto,'\\nSe eliminaron los espacios en blanco de la cadena:\\n',texto_4)\n",
    "\n",
    "# 6. .count(): cuenta el número de veces que aparece una subcadena en un string\n",
    "h=texto.count('Hola')\n",
    "print('6. Cadena original: ', texto, '\\n¿Cuántas veces aparece la palabra Hola en el string? ',h)"
   ]
  },
  {
   "cell_type": "markdown",
   "metadata": {
    "id": "cT2XMf3oRr-F"
   },
   "source": [
    "## Estructura de datos"
   ]
  },
  {
   "cell_type": "markdown",
   "metadata": {
    "id": "XqfKK7joRuSG"
   },
   "source": [
    "### Listas\n",
    "Las listas o arreglos en Python son secuencias de elementos ordenados por un índice, el cual inicia en el 0. Los elementos dentro de una lista se pueden editar, añadir nuevos o eliminar, además de poder contener diferentes tipos de datos y elementos duplicados."
   ]
  },
  {
   "cell_type": "code",
   "execution_count": 9,
   "metadata": {
    "colab": {
     "base_uri": "https://localhost:8080/"
    },
    "executionInfo": {
     "elapsed": 7,
     "status": "ok",
     "timestamp": 1696516505249,
     "user": {
      "displayName": "Gabriela Pinilla",
      "userId": "06217804010701217129"
     },
     "user_tz": 180
    },
    "id": "BTdgTAmASJ2B",
    "outputId": "e4262c52-a068-401d-e896-2107845522bf"
   },
   "outputs": [
    {
     "name": "stdout",
     "output_type": "stream",
     "text": [
      "Lista:\n",
      " ['elemento0', 'elemento1', 'elemento2']\n",
      "El primer elemento es:  elemento0\n",
      "El tercer elemento es:  elemento2\n",
      "Lista más un elemento agregado al final:\n",
      " ['elemento0', 'elemento1', 'elemento2', 'elemento3']\n",
      "La cantidad de elementos que tiene la nueva lista es:  4\n",
      "Se ha insertado un nuevo elemento en la posición 2 :\n",
      " ['elemento0', 'elemento1', 'elemento2_2', 'elemento2', 'elemento3']\n",
      "Se ha removido elemento2 \n",
      " ['elemento0', 'elemento1', 'elemento2_2', 'elemento3']\n"
     ]
    }
   ],
   "source": [
    "# Crear una lista vacía\n",
    "lista_0=[]\n",
    "\n",
    "# Crear una lista con elementos\n",
    "lista_1 = ['elemento0', 'elemento1', 'elemento2']\n",
    "print('Lista:\\n',lista_1)\n",
    "\n",
    "# Para acceder a los elementos de la lista:\n",
    "print('El primer elemento es: ',lista_1[0])\n",
    "\n",
    "print('El tercer elemento es: ',lista_1[2]) # o print(lista_1[-1])\n",
    "\n",
    "# Para agregar un elemento al final de la lista\n",
    "lista_1.append('elemento3')\n",
    "print('Lista más un elemento agregado al final:\\n',lista_1)\n",
    "\n",
    "# Para obtener la longitud\n",
    "longitud = len(lista_1)\n",
    "print('La cantidad de elementos que tiene la nueva lista es: ',longitud)\n",
    "\n",
    "# Insertar elementos en una determinada posición, desplazando la posición de los otros\n",
    "lista_1.insert(2,'elemento2_2')\n",
    "print('Se ha insertado un nuevo elemento en la posición 2 :\\n',lista_1)\n",
    "\n",
    "# Remover un elemento indicado\n",
    "lista_1.remove('elemento2')\n",
    "print('Se ha removido elemento2 \\n', lista_1)"
   ]
  },
  {
   "cell_type": "markdown",
   "metadata": {
    "id": "aGsxMNNORDAL"
   },
   "source": [
    "Otros comandos para la manipulación de listas:\n",
    "- `lista.clear()`: elimina todos los elementos de la lista.\n",
    "- `del lista`: elimina la lista.\n",
    "- `listacopida=lista.copy()`: crea una copia de la lista.\n",
    "- `lista_3 = lista_1 + lista_2`: concatenación de listas.\n",
    "- `elemento in lista_1`: busca el elemento en la lista y devolverá un booleano.\n",
    "- `lista.reverse()`: da vuelta la lista, imprimiendo desde el último elemento hasta el primero.\n",
    "- `lista.sort()`: ordena la lista de forma ascendente. La lista ya debe estar creada.\n",
    "- `lista.remove('elemento')`: quitar un elemento de la lista.\n",
    "- `lista.pop(n)`: elimina el elemento ubicado en el índice n. Si no se define un número, elimina el úntimo elemento de la lista."
   ]
  },
  {
   "cell_type": "markdown",
   "metadata": {
    "id": "uwT9prOhVFFc"
   },
   "source": [
    "#### Filtros"
   ]
  },
  {
   "cell_type": "code",
   "execution_count": 10,
   "metadata": {
    "colab": {
     "base_uri": "https://localhost:8080/"
    },
    "executionInfo": {
     "elapsed": 252,
     "status": "ok",
     "timestamp": 1696870087012,
     "user": {
      "displayName": "Gabriela Pinilla",
      "userId": "06217804010701217129"
     },
     "user_tz": 180
    },
    "id": "69a7IIaJVB3H",
    "outputId": "85f91a5b-bdca-4d4a-d84c-641d5a894262"
   },
   "outputs": [
    {
     "name": "stdout",
     "output_type": "stream",
     "text": [
      "['manzana', 'melon']\n"
     ]
    }
   ],
   "source": [
    "frutas=['manzana','pera','uva','sandia','banana','melon']\n",
    "frutas_fitro=[fruta for fruta in frutas if fruta.lower().startswith('m')]\n",
    "print(frutas_fitro)"
   ]
  },
  {
   "cell_type": "markdown",
   "metadata": {},
   "source": [
    "#### Orden"
   ]
  },
  {
   "cell_type": "code",
   "execution_count": 11,
   "metadata": {},
   "outputs": [
    {
     "name": "stdout",
     "output_type": "stream",
     "text": [
      "['manzana', 'pera', 'uva', 'sandia', 'banana', 'melon']\n",
      "['banana', 'manzana', 'melon', 'pera', 'sandia', 'uva']\n"
     ]
    }
   ],
   "source": [
    "print(frutas)\n",
    "frutas_ordenadas=sorted(frutas)\n",
    "print(frutas_ordenadas)"
   ]
  },
  {
   "cell_type": "markdown",
   "metadata": {
    "id": "98H08qtYTGUM"
   },
   "source": [
    "#### Compresión de listas\n",
    "Esta herramienta se usa para simplificar el código. Se usan para evitar crear una lista vacía y llenarla usando un `ciclo for`. Su sintaxis es:\n",
    "\n",
    "`<expresion> for <elemento> in <var_iterable> if <condicion>`"
   ]
  },
  {
   "cell_type": "code",
   "execution_count": 12,
   "metadata": {
    "colab": {
     "base_uri": "https://localhost:8080/"
    },
    "executionInfo": {
     "elapsed": 4,
     "status": "ok",
     "timestamp": 1696517836151,
     "user": {
      "displayName": "Gabriela Pinilla",
      "userId": "06217804010701217129"
     },
     "user_tz": 180
    },
    "id": "t0D3EQOhTlUa",
    "outputId": "9bfdb6f7-6501-44b2-879c-0e8ba0974695"
   },
   "outputs": [
    {
     "name": "stdout",
     "output_type": "stream",
     "text": [
      "Lista de números impares iniciando con una lista vacía: \n",
      " [1, 3, 5, 7, 9]\n",
      "Lista de números impares iniciando con una lista comprimida: \n",
      " [1, 3, 5, 7, 9]\n"
     ]
    }
   ],
   "source": [
    "# Ejemplo: Lista con números impares\n",
    "numeros = [1, 2, 3, 4, 5, 6, 7, 8, 9, 10]\n",
    "# Lista vacía\n",
    "impar_1= []\n",
    "for num_1 in numeros:\n",
    "  if num_1%2 != 0:\n",
    "    impar_1.append(num_1)\n",
    "print('Lista de números impares iniciando con una lista vacía: \\n', impar_1)\n",
    "# Lista comprimida\n",
    "impar_2 =[num_2 for num_2 in numeros if num_2 %2 !=0 ]\n",
    "print('Lista de números impares iniciando con una lista comprimida: \\n',impar_2)"
   ]
  },
  {
   "cell_type": "markdown",
   "metadata": {
    "id": "urSeAm7zRvao"
   },
   "source": [
    "### Diccionarios\n",
    "Los diccionarios son una colección de par clave-valor. Su sintaxis es `diccionario={clave:valor}`."
   ]
  },
  {
   "cell_type": "code",
   "execution_count": 13,
   "metadata": {
    "colab": {
     "base_uri": "https://localhost:8080/"
    },
    "executionInfo": {
     "elapsed": 263,
     "status": "ok",
     "timestamp": 1696869850106,
     "user": {
      "displayName": "Gabriela Pinilla",
      "userId": "06217804010701217129"
     },
     "user_tz": 180
    },
    "id": "5O9N6-dpTBG0",
    "outputId": "8e99047d-671e-48ae-f7fb-136552c2298f"
   },
   "outputs": [
    {
     "name": "stdout",
     "output_type": "stream",
     "text": [
      "{'Presidente'}\n",
      "{'nombre': 'Marcelo', 'apellido': 'Soto', 'ciudad': 'Santiago', 'edad': 38, 'profesion': 'Presidente', 'estado civil': 'Soltero'}\n",
      "{'nombre': 'Marcelo', 'apellido': 'Soto', 'ciudad': 'Santiago', 'profesion': 'Presidente', 'estado civil': 'Soltero'}\n"
     ]
    }
   ],
   "source": [
    "diccionario_1={'nombre':'Marcelo',\n",
    "               'apellido':'Soto',\n",
    "               'ciudad':'Santiago',\n",
    "               'edad':38,\n",
    "               'profesion':'Presidente'}\n",
    "\n",
    "# Imprimir un valor\n",
    "print({diccionario_1['profesion']})\n",
    "\n",
    "# Agregar un nuevo par clave-valor\n",
    "diccionario_1['estado civil'] = 'Soltero'\n",
    "print(diccionario_1)\n",
    "\n",
    "# Eliminar un par clave-valor\n",
    "del diccionario_1['edad']\n",
    "print(diccionario_1)"
   ]
  },
  {
   "cell_type": "markdown",
   "metadata": {
    "id": "mxevtfFuXtdf"
   },
   "source": [
    "#### Filtros"
   ]
  },
  {
   "cell_type": "code",
   "execution_count": 14,
   "metadata": {
    "colab": {
     "base_uri": "https://localhost:8080/"
    },
    "executionInfo": {
     "elapsed": 266,
     "status": "ok",
     "timestamp": 1696871007572,
     "user": {
      "displayName": "Gabriela Pinilla",
      "userId": "06217804010701217129"
     },
     "user_tz": 180
    },
    "id": "Bc5oLCrTXvF4",
    "outputId": "0694e74c-0eb0-4e3d-b00d-04615ee828d9"
   },
   "outputs": [
    {
     "name": "stdout",
     "output_type": "stream",
     "text": [
      "* Roberto tiene 32 años\n",
      "* Matias tiene 19 años\n"
     ]
    }
   ],
   "source": [
    "amigos={'Roberto':32, 'Maria':48, 'Ximena':56, 'Matias':19}\n",
    "for amigo, edad in amigos.items():\n",
    "  if edad <= 32:\n",
    "    print(f'* {amigo} tiene {edad} años')"
   ]
  },
  {
   "cell_type": "markdown",
   "metadata": {},
   "source": [
    "#### Orden\n",
    "Para ordenar un diccionario se utiliza el comando `sorted`. Luego de usarlo, se debe usar `dict` para transformarlo a diccionario nuevamente."
   ]
  },
  {
   "cell_type": "code",
   "execution_count": 15,
   "metadata": {},
   "outputs": [
    {
     "name": "stdout",
     "output_type": "stream",
     "text": [
      "{'Roberto': 32, 'Maria': 48, 'Ximena': 56, 'Matias': 19}\n"
     ]
    },
    {
     "data": {
      "text/plain": [
       "{'Maria': 48, 'Matias': 19, 'Roberto': 32, 'Ximena': 56}"
      ]
     },
     "execution_count": 15,
     "metadata": {},
     "output_type": "execute_result"
    }
   ],
   "source": [
    "print(amigos)\n",
    "dict(sorted(amigos.items()))"
   ]
  },
  {
   "cell_type": "markdown",
   "metadata": {},
   "source": [
    "#### De lista a diccionario\n",
    "Se usa los comandos `zip()` y `dict()` para transformar dos listas a un diccionario. Luego, se definen las llaves con `.keys()` y los valores con `.values()`.\n",
    "Si se quiere transformar dos listas a un diccionario"
   ]
  },
  {
   "cell_type": "code",
   "execution_count": 16,
   "metadata": {},
   "outputs": [
    {
     "name": "stdout",
     "output_type": "stream",
     "text": [
      "{'Javier': 23, 'Arnold': 27, 'Giorgio': 21}\n"
     ]
    }
   ],
   "source": [
    "nom=['Javier','Arnold','Giorgio']\n",
    "edad=[23,27,21]\n",
    "\n",
    "diccionario_edades=dict(zip(nom,edad))\n",
    "\n",
    "nom= list(diccionario_edades.keys())\n",
    "edad= list(diccionario_edades.values())\n",
    "print(diccionario_edades)"
   ]
  },
  {
   "cell_type": "markdown",
   "metadata": {
    "id": "Jj7ezBiwRx0e"
   },
   "source": [
    "### Tuplas\n",
    "Las tuplas es un conjunto de datos ordenados e inmutable. Puede contener elementos de diferentes tipos, sin embargo, no se pueden modificar después de haber sido creada."
   ]
  },
  {
   "cell_type": "code",
   "execution_count": 17,
   "metadata": {
    "colab": {
     "base_uri": "https://localhost:8080/",
     "height": 36
    },
    "executionInfo": {
     "elapsed": 428,
     "status": "ok",
     "timestamp": 1696366471676,
     "user": {
      "displayName": "Gabriela Pinilla",
      "userId": "06217804010701217129"
     },
     "user_tz": 180
    },
    "id": "4q29PS38Uepc",
    "outputId": "adcdf01c-b375-4473-810b-3cd542468620"
   },
   "outputs": [
    {
     "data": {
      "text/plain": [
       "'elemento0'"
      ]
     },
     "execution_count": 17,
     "metadata": {},
     "output_type": "execute_result"
    }
   ],
   "source": [
    "tupla_1=('elemento0', 'elemento1', 'elemento3')\n",
    "\n",
    "# Para que devuelva 'elemento0'\n",
    "tupla_1[0]"
   ]
  },
  {
   "cell_type": "markdown",
   "metadata": {
    "id": "wxbcyIpIR0YO"
   },
   "source": [
    "### Set\n",
    "Un set es una colección desordenada de elementos que no se pueden repetir. Si esto ocurre, guardará solo los que no se repiten."
   ]
  },
  {
   "cell_type": "code",
   "execution_count": 18,
   "metadata": {
    "colab": {
     "base_uri": "https://localhost:8080/"
    },
    "executionInfo": {
     "elapsed": 251,
     "status": "ok",
     "timestamp": 1696366730168,
     "user": {
      "displayName": "Gabriela Pinilla",
      "userId": "06217804010701217129"
     },
     "user_tz": 180
    },
    "id": "wVZIbZTEVY0x",
    "outputId": "c3dcb14a-4b69-4bb0-fd73-a2d71f295a6e"
   },
   "outputs": [
    {
     "name": "stdout",
     "output_type": "stream",
     "text": [
      "{'banana', 'manzana', 'pera'}\n"
     ]
    }
   ],
   "source": [
    "set_1={'manzana', 'pera', 'banana', 'pera'}\n",
    "print(set_1)"
   ]
  },
  {
   "cell_type": "markdown",
   "metadata": {
    "id": "qPxvUswPJALs"
   },
   "source": [
    "## Estructura de control"
   ]
  },
  {
   "cell_type": "markdown",
   "metadata": {
    "id": "ygXsXkdJK9YD"
   },
   "source": [
    "### Condicional `if`, `elif` y `else`"
   ]
  },
  {
   "cell_type": "code",
   "execution_count": 19,
   "metadata": {
    "colab": {
     "base_uri": "https://localhost:8080/"
    },
    "executionInfo": {
     "elapsed": 2935,
     "status": "ok",
     "timestamp": 1696297985426,
     "user": {
      "displayName": "Gabriela Pinilla",
      "userId": "06217804010701217129"
     },
     "user_tz": 180
    },
    "id": "MIo10bvtNd76",
    "outputId": "f8780344-a10f-43a8-8bc3-92f48b04d443"
   },
   "outputs": [
    {
     "name": "stdin",
     "output_type": "stream",
     "text": [
      "Ingrese un número entre el 1 y el 20 \n",
      " 12\n"
     ]
    },
    {
     "name": "stdout",
     "output_type": "stream",
     "text": [
      "Su número está entre el 11 y el 20\n"
     ]
    }
   ],
   "source": [
    "num = int(input('Ingrese un número entre el 1 y el 20 \\n'))\n",
    "if 1 <= num <= 5:\n",
    "  print('Su número está entre el 1 y el 5')\n",
    "elif 5 < num <= 10:\n",
    "  print('Su número está entre el 6 y el 10')\n",
    "elif 10 < num <= 20:\n",
    "  print('Su número está entre el 11 y el 20')\n",
    "else:\n",
    "  print('No ingresó un número entre el 1 y el 20 >:c')"
   ]
  },
  {
   "cell_type": "markdown",
   "metadata": {
    "id": "nc3VzijuNdS0"
   },
   "source": [
    "### Ciclo `for`"
   ]
  },
  {
   "cell_type": "code",
   "execution_count": 20,
   "metadata": {
    "colab": {
     "base_uri": "https://localhost:8080/"
    },
    "executionInfo": {
     "elapsed": 273,
     "status": "ok",
     "timestamp": 1696298636349,
     "user": {
      "displayName": "Gabriela Pinilla",
      "userId": "06217804010701217129"
     },
     "user_tz": 180
    },
    "id": "9MOt0VuZQVdo",
    "outputId": "82f2c799-c106-43bc-a19f-cb36d9a0b8f5"
   },
   "outputs": [
    {
     "name": "stdout",
     "output_type": "stream",
     "text": [
      "1\n",
      "2\n",
      "3\n",
      "4\n",
      "5\n"
     ]
    }
   ],
   "source": [
    "lista_1=(range(1,6))\n",
    "\n",
    "for i in lista_1:\n",
    "  print(i)\n",
    "  i=i+1\n"
   ]
  },
  {
   "cell_type": "markdown",
   "metadata": {
    "id": "EY-PuUw4LJgc"
   },
   "source": [
    "### Ciclo `while`"
   ]
  },
  {
   "cell_type": "code",
   "execution_count": 21,
   "metadata": {
    "colab": {
     "base_uri": "https://localhost:8080/"
    },
    "executionInfo": {
     "elapsed": 7147,
     "status": "ok",
     "timestamp": 1696298591536,
     "user": {
      "displayName": "Gabriela Pinilla",
      "userId": "06217804010701217129"
     },
     "user_tz": 180
    },
    "id": "8v9hL6BFRKdv",
    "outputId": "03b2f809-8dd6-474d-b533-9deb86cdc2fc"
   },
   "outputs": [
    {
     "name": "stdin",
     "output_type": "stream",
     "text": [
      "Escriba un valor de x \n",
      " 4\n",
      "Escriba un valor de x \n",
      " 2\n",
      "Escriba un valor de x \n",
      " 19\n"
     ]
    },
    {
     "name": "stdout",
     "output_type": "stream",
     "text": [
      "Fin\n"
     ]
    }
   ],
   "source": [
    "x=0\n",
    "while x < 10:\n",
    "  x=int(input('Escriba un valor de x \\n'))\n",
    "\n",
    "print('Fin')"
   ]
  },
  {
   "cell_type": "markdown",
   "metadata": {
    "editable": true,
    "slideshow": {
     "slide_type": ""
    },
    "tags": []
   },
   "source": [
    "## Numpy\n",
    "NumPy es una librería que se utiliza para cálculos numéricos. Introduce los arrays, una estructura de datos que representa arreglos en varias dimensiones (vectores, matrices, tensores...). Es conocida por los NumPy Arrays (ndarray), una estructura de datos que sirven para manejar grandes cantidades de datos del mismo tipo. Pueden ser de una dimensión (vector), dos dimensiones (matriz), tres (cubo) o más.\n",
    "\n",
    "Para cargar datos con Numpy y poder crear arreglos, se debe especificar el nombre del archivo con su extensión:\n",
    "```\n",
    "nombre = np.loadtxt(\"archivo_de_nombres.csv\", delimiter=',', dtype = str, encoding='utf-8')\n",
    "numeros = np.loadtxt(\"archivo_de_numeros.csv\", delimiter=',', dtype= int)\n",
    "```\n",
    "\n",
    "**Importante**\n",
    "\n",
    "Al momento de imprimir un arreglo con varios elementos, puede que el programa muestre solo los primeros y últimos tres. Se puede configurar la forma en que NumPy imprime los arreglos con `np.set_printoptions()`:\n",
    "\n",
    "- `np.set_printoptions(threshold=np.inf)`: para mostrar todo el arreglo.\n",
    "- `np.set_printoptions(edgeitems=3, infstr='inf', linewidth=75, nanstr='nan', precision=8, suppress=False, threshold=1000, formatter=None)`: para volver a la configuración de visualización predeterminada."
   ]
  },
  {
   "cell_type": "markdown",
   "metadata": {},
   "source": [
    "#### Creación de un NumPy Array\n",
    "Para crear un array a partir de una lista se utiliza el siguiente comando:"
   ]
  },
  {
   "cell_type": "code",
   "execution_count": 14,
   "metadata": {},
   "outputs": [
    {
     "data": {
      "text/plain": [
       "array([1, 2, 3, 4, 5, 6, 7])"
      ]
     },
     "execution_count": 14,
     "metadata": {},
     "output_type": "execute_result"
    }
   ],
   "source": [
    "import numpy as np\n",
    "nom_lista=[1,2,3,4,5,6,7]\n",
    "mi_arreglo=np.array(nom_lista)\n",
    "mi_arreglo"
   ]
  },
  {
   "cell_type": "code",
   "execution_count": 23,
   "metadata": {},
   "outputs": [
    {
     "data": {
      "text/plain": [
       "array([[5, 6, 7],\n",
       "       [7, 6, 5],\n",
       "       [6, 5, 7]])"
      ]
     },
     "execution_count": 23,
     "metadata": {},
     "output_type": "execute_result"
    }
   ],
   "source": [
    "lista_2d=[[5,6,7],\n",
    "          [7,6,5],\n",
    "          [6,5,7]\n",
    "         ]\n",
    "mi_arreglo_2d=np.array(lista_2d)\n",
    "mi_arreglo_2d"
   ]
  },
  {
   "cell_type": "markdown",
   "metadata": {},
   "source": [
    "### Propiedades\n",
    "- `shape`: forma del arreglo (filas, columnas). `mi_arreglo_2d.shape`\n",
    "- `ndim`: dimensiones del arreglo. `mi_arreglo_2d.ndim`\n",
    "- `dtype`: tipo de datos del arreglo. `mi_arreglo_2d.dtype`\n",
    "- `size`: cantidad de datos en el arreglo. `mi_arreglo_2d.size`\n",
    "- `np.zeros((n,m))`: crea un arreglo de 0 de la forma nxm.\n",
    "- `np.ones((n,n))`: crea un arreglo de 1 con la forma nxn.\n",
    "- `np.arange(n)`: crea un arreglo de 1 dimensión con los valores del 0 a n. Sintaxis: `np.arange(inicio, fin-1,paso)`\n",
    "- `np.arange(n).reshape(m,l)`: crea un arreglo de 2 dimensiones con la forma m,l con valores del 0 al n.\n",
    "- `np.linspace(inicio, fin, n)`: crea un arreglo entre dos números, incluyéndolos a ambos, de n valores equidistantes.\n",
    "- `np.concatenate((a,b))`: concatena el arreglo a con el b.\n",
    "- `np.pi`: sirve para escribir el número pi en cálculos matemáticos."
   ]
  },
  {
   "cell_type": "code",
   "execution_count": 24,
   "metadata": {},
   "outputs": [
    {
     "name": "stdout",
     "output_type": "stream",
     "text": [
      "[10.  12.5 15.  17.5 20. ] [ 5. 10. 15. 20. 25.]\n"
     ]
    }
   ],
   "source": [
    "a= np.linspace(10,20,5)\n",
    "b= np.linspace(5,25,5)\n",
    "print(a,b)"
   ]
  },
  {
   "cell_type": "code",
   "execution_count": 25,
   "metadata": {},
   "outputs": [
    {
     "data": {
      "text/plain": [
       "array([15. , 22.5, 30. , 37.5, 45. ])"
      ]
     },
     "execution_count": 25,
     "metadata": {},
     "output_type": "execute_result"
    }
   ],
   "source": [
    "a+b"
   ]
  },
  {
   "cell_type": "code",
   "execution_count": 26,
   "metadata": {},
   "outputs": [
    {
     "data": {
      "text/plain": [
       "array([10. , 12.5, 15. , 17.5, 20. ,  5. , 10. , 15. , 20. , 25. ])"
      ]
     },
     "execution_count": 26,
     "metadata": {},
     "output_type": "execute_result"
    }
   ],
   "source": [
    "c = np.concatenate((a,b))\n",
    "c"
   ]
  },
  {
   "cell_type": "markdown",
   "metadata": {},
   "source": [
    "#### Generación de números aleatorios\n",
    "* `np.random.default_rng(n)`: genera un arreglo de  números aleatorios entre 0 y 1.\n",
    "* `normal(media, desv_estandar,n)`: genera n valores aleatorios que siguen una distribución normal.\n",
    "* `integers(fin-1, size = n)`: genera n números aleatorios entre el 0 y fin-1.\n",
    "* `choice(fin-1, size = n, replace = False)`: genera n números aleatorios entre el 0 y fin-1 sin repetirse."
   ]
  },
  {
   "cell_type": "code",
   "execution_count": 28,
   "metadata": {},
   "outputs": [
    {
     "data": {
      "text/plain": [
       "array([0.26161213, 0.29849114, 0.81422574, 0.09191594, 0.60010053,\n",
       "       0.72856053, 0.18790107, 0.05514663, 0.27496937, 0.65743301,\n",
       "       0.56226566, 0.15006226, 0.43263079, 0.6692973 , 0.42278467,\n",
       "       0.6331844 , 0.96743595, 0.68306482, 0.39162483, 0.18725257,\n",
       "       0.34596067, 0.51106597, 0.89120941, 0.77556394, 0.3181466 ,\n",
       "       0.9242169 , 0.47090989, 0.69375884, 0.10720731, 0.10454356,\n",
       "       0.20190745, 0.88444967, 0.67981146, 0.84923632, 0.64443627,\n",
       "       0.4065424 , 0.51657819, 0.59344352, 0.86211798, 0.43818617,\n",
       "       0.89224011, 0.61371694, 0.82935613, 0.49805605, 0.69251813,\n",
       "       0.33902537, 0.5228285 , 0.21622339, 0.1007036 , 0.03860413,\n",
       "       0.70194948, 0.45643062, 0.89773415, 0.8351832 , 0.38509513,\n",
       "       0.97367877, 0.59206201, 0.76588331, 0.40719436, 0.19616991,\n",
       "       0.17177702, 0.18120623, 0.60380552, 0.11263286, 0.01991075,\n",
       "       0.83299696, 0.09941112, 0.45058454, 0.48849857, 0.62027241,\n",
       "       0.50401448, 0.93734314, 0.75039659, 0.5744665 , 0.61727214,\n",
       "       0.50655149, 0.96476181, 0.22662606, 0.68902714, 0.55509668,\n",
       "       0.04201179, 0.29615   , 0.92716694, 0.78456486, 0.01283109,\n",
       "       0.29662633, 0.00980535, 0.82746694, 0.11036759, 0.05745518,\n",
       "       0.98188334, 0.44586988, 0.318393  , 0.04901339, 0.38959528,\n",
       "       0.36603906, 0.52348079, 0.00678547, 0.14796288, 0.20988653,\n",
       "       0.44050452, 0.30230337, 0.61332768, 0.28543261, 0.90963301,\n",
       "       0.96186996, 0.05943487, 0.20905972, 0.56302318, 0.77066023,\n",
       "       0.06402423, 0.18480268, 0.45672012, 0.66869076, 0.90332793,\n",
       "       0.86697296, 0.79375542, 0.05273214, 0.97663649, 0.61462795,\n",
       "       0.08611582, 0.25492878, 0.62075408, 0.38564012, 0.44660348,\n",
       "       0.80458507, 0.82403098, 0.54678698, 0.7924511 , 0.40600493,\n",
       "       0.97448184, 0.60515917, 0.96769798, 0.04398769, 0.88269265,\n",
       "       0.55937719, 0.71363903, 0.19259498, 0.54869138, 0.28927792,\n",
       "       0.10548048, 0.00318677, 0.90684002, 0.67090432, 0.20502173,\n",
       "       0.25781868, 0.46559431, 0.81828725, 0.1176256 , 0.96778483,\n",
       "       0.94391077, 0.2446601 , 0.64078186, 0.36009753, 0.69732334,\n",
       "       0.0869161 , 0.46996588, 0.5884908 , 0.62647574, 0.69279547,\n",
       "       0.89138137, 0.24125021, 0.15319432, 0.39060694, 0.56882815,\n",
       "       0.96052876, 0.71050559, 0.73844255, 0.97271705, 0.26774316,\n",
       "       0.25946163, 0.42254084, 0.29542001, 0.65110339, 0.95171392,\n",
       "       0.15351149, 0.51794768, 0.6775781 , 0.49317767, 0.91374384,\n",
       "       0.73689799, 0.8821768 , 0.11176499, 0.1957635 , 0.06570423,\n",
       "       0.8293195 , 0.96281866, 0.01399102, 0.78925364, 0.7278312 ,\n",
       "       0.90818679, 0.27038547, 0.71477718, 0.23742288, 0.0760332 ,\n",
       "       0.74520406, 0.04221297, 0.69959446, 0.28346246, 0.4874234 ,\n",
       "       0.89153315, 0.24340788, 0.46832438, 0.35504945, 0.19038089,\n",
       "       0.47365147, 0.18163033, 0.79900749, 0.61482164, 0.28313075,\n",
       "       0.973105  , 0.34527684, 0.67125666, 0.73322373, 0.26522639,\n",
       "       0.0117638 , 0.89261588, 0.95641651, 0.17022808, 0.15360521,\n",
       "       0.43266742, 0.59756957, 0.98898263, 0.96349612, 0.98785284,\n",
       "       0.24556942, 0.5988832 , 0.43586914, 0.2314023 , 0.06537737,\n",
       "       0.16872837, 0.35845173, 0.08802173, 0.15073899, 0.04465149,\n",
       "       0.62290627, 0.49271648, 0.243553  , 0.52634874, 0.42444678,\n",
       "       0.65915322, 0.93266722, 0.35329211, 0.64515153, 0.21891674,\n",
       "       0.9398994 , 0.61769248, 0.15874744, 0.25705106, 0.15915136,\n",
       "       0.17913403, 0.30679886, 0.82307044, 0.4570588 , 0.27716997,\n",
       "       0.41907586, 0.26739823, 0.73368242, 0.05878125, 0.28922856,\n",
       "       0.32324609, 0.18151952, 0.73815578, 0.18024736, 0.30048134,\n",
       "       0.05647656, 0.75558564, 0.36386302, 0.65592839, 0.2172361 ,\n",
       "       0.02180019, 0.32241816, 0.77906385, 0.83744578, 0.34883976,\n",
       "       0.84694078, 0.05034893, 0.52211454, 0.25742242, 0.43907769,\n",
       "       0.22164182, 0.89356662, 0.30217467, 0.94529193, 0.10909018,\n",
       "       0.42983101, 0.44344493, 0.70943479, 0.34502227, 0.49249496,\n",
       "       0.07044906, 0.31103146, 0.72498432, 0.10591139, 0.46253567,\n",
       "       0.23672695, 0.1654845 , 0.12131551, 0.81386593, 0.68665702,\n",
       "       0.3794561 , 0.39164094, 0.72845748, 0.60395615, 0.91601526,\n",
       "       0.91941369, 0.4821747 , 0.65913526, 0.54466771, 0.31028554,\n",
       "       0.45351342, 0.72117586, 0.55268215, 0.63240637, 0.4870733 ,\n",
       "       0.95297764, 0.77646145, 0.13078503, 0.81410951, 0.91757758,\n",
       "       0.81665819, 0.34310825, 0.367909  , 0.24321437, 0.05570471,\n",
       "       0.47206135, 0.85048018, 0.76881159, 0.6621989 , 0.84719067,\n",
       "       0.65911387, 0.22333342, 0.80315508, 0.36752   , 0.89006197,\n",
       "       0.32648253, 0.09190195, 0.7298982 , 0.10764675, 0.87021443,\n",
       "       0.41192355, 0.7801212 , 0.05256846, 0.54383776, 0.67689404,\n",
       "       0.12950513, 0.60839782, 0.14302262, 0.30398913, 0.36528521,\n",
       "       0.61958537, 0.13011884, 0.18482566, 0.78125659, 0.71587564,\n",
       "       0.45420567, 0.28200302, 0.69220464, 0.4678444 , 0.31151967,\n",
       "       0.87468323, 0.20184032, 0.80428285, 0.61781791, 0.64598013,\n",
       "       0.68215245, 0.74827104, 0.8809471 , 0.92058385, 0.25548905,\n",
       "       0.1638862 , 0.89637408, 0.20382929, 0.22196494, 0.80525699,\n",
       "       0.96611059, 0.84454535, 0.51673039, 0.37560037, 0.98855173,\n",
       "       0.73606888, 0.62909352, 0.01112877, 0.19519178, 0.01349177,\n",
       "       0.90704041, 0.23646561, 0.17102131, 0.58256772, 0.20310186,\n",
       "       0.54653209, 0.9497917 , 0.86390869, 0.24512753, 0.91617764,\n",
       "       0.39939044, 0.52303708, 0.32497268, 0.99995809, 0.30707346,\n",
       "       0.737276  , 0.61989604, 0.68892332, 0.10400655, 0.53678881,\n",
       "       0.99704736, 0.56314343, 0.19679411, 0.05257312, 0.32995251,\n",
       "       0.74561653, 0.02481358, 0.04863821, 0.65700802, 0.88186714,\n",
       "       0.43874838, 0.62430676, 0.25726181, 0.27256318, 0.47497741,\n",
       "       0.21906648, 0.45387996, 0.14838181, 0.92397493, 0.64795107,\n",
       "       0.09418871, 0.19310735, 0.82915273, 0.37240304, 0.26010407,\n",
       "       0.02331807, 0.67521685, 0.57033139, 0.84039444, 0.16973045,\n",
       "       0.75229518, 0.82706877, 0.82412116, 0.74636475, 0.44236588,\n",
       "       0.04740683, 0.64428142, 0.02569125, 0.08584249, 0.4091233 ,\n",
       "       0.12077795, 0.45198276, 0.8510432 , 0.17415722, 0.79815495,\n",
       "       0.99756073, 0.037283  , 0.42314941, 0.70754131, 0.73168353,\n",
       "       0.27990975, 0.80902173, 0.37128152, 0.20075243, 0.51783179,\n",
       "       0.61247725, 0.83773825, 0.66398121, 0.08311997, 0.57485685,\n",
       "       0.34414603, 0.70504238, 0.04506066, 0.65735746, 0.79157132,\n",
       "       0.0401567 , 0.01536072, 0.89189148, 0.89542364, 0.17658518,\n",
       "       0.92245198, 0.40661635, 0.5190463 , 0.47087198, 0.33500287,\n",
       "       0.88424856, 0.61057621, 0.93247209, 0.62207593, 0.92485838,\n",
       "       0.5152196 , 0.47489401, 0.57131101, 0.00591919, 0.76764455,\n",
       "       0.13961698, 0.94396252, 0.04429511, 0.7081858 , 0.76858554,\n",
       "       0.54163768, 0.09575644, 0.81150338, 0.32121682, 0.28797286,\n",
       "       0.69238515, 0.97182871, 0.09614731, 0.43627545, 0.67334389,\n",
       "       0.2769218 , 0.92499474, 0.6027983 , 0.0756099 , 0.15476542,\n",
       "       0.14325491, 0.45600458, 0.91025897, 0.11228428, 0.15129167,\n",
       "       0.21172574, 0.57309136, 0.43021384, 0.41830465, 0.144937  ,\n",
       "       0.82428303, 0.47944939, 0.86572777, 0.03011478, 0.45770009,\n",
       "       0.3684166 , 0.84131338, 0.69214217, 0.52092413, 0.16124838,\n",
       "       0.68259365, 0.89597382, 0.77662201, 0.96711665, 0.59131801,\n",
       "       0.3137366 , 0.22100306, 0.79934162, 0.81183764, 0.63473214,\n",
       "       0.78207289, 0.4859756 , 0.85153847, 0.69469176, 0.24195175,\n",
       "       0.587547  , 0.65613946, 0.20283872, 0.93577899, 0.80555036,\n",
       "       0.14526105, 0.21989445, 0.0021272 , 0.9394023 , 0.17436271,\n",
       "       0.83381308, 0.51160446, 0.05711615, 0.21142548, 0.25771204,\n",
       "       0.76435562, 0.36764731, 0.14193928, 0.94634387, 0.51451938,\n",
       "       0.0665885 , 0.97299941, 0.67532809, 0.44104229, 0.14572561,\n",
       "       0.69336859, 0.09698163, 0.93923895, 0.75150755, 0.71313401,\n",
       "       0.770281  , 0.86378313, 0.4689278 , 0.81151346, 0.11017816,\n",
       "       0.70036622, 0.75115026, 0.21138699, 0.11133799, 0.91681299,\n",
       "       0.89151201, 0.10992255, 0.58934796, 0.18078792, 0.20470232,\n",
       "       0.92919233, 0.6627969 , 0.7584632 , 0.28213424, 0.77581363,\n",
       "       0.66935946, 0.34626693, 0.49623646, 0.24907852, 0.59450206,\n",
       "       0.18694388, 0.44866577, 0.85532659, 0.65784283, 0.60224058,\n",
       "       0.1119182 , 0.82168075, 0.61953581, 0.94839913, 0.93377553,\n",
       "       0.93179895, 0.53442176, 0.76969508, 0.10163128, 0.04474598,\n",
       "       0.78629822, 0.67325024, 0.94701235, 0.30439726, 0.49499616,\n",
       "       0.78672871, 0.60897904, 0.84850315, 0.39472534, 0.84516247,\n",
       "       0.86129733, 0.90298399, 0.39794645, 0.90827594, 0.30910327,\n",
       "       0.5939051 , 0.97993049, 0.64448812, 0.59241674, 0.36098745,\n",
       "       0.51360948, 0.49059894, 0.67758551, 0.53984254, 0.31843589,\n",
       "       0.19081465, 0.98732843, 0.61934903, 0.17313969, 0.33795313,\n",
       "       0.65016206, 0.23861847, 0.8953391 , 0.54052343, 0.68086001,\n",
       "       0.66350032, 0.16174409, 0.9321474 , 0.84578276, 0.14598698,\n",
       "       0.56956286, 0.5279328 , 0.30958655, 0.3752215 , 0.25919392,\n",
       "       0.63134325, 0.42862469, 0.10042342, 0.22717449, 0.15154658,\n",
       "       0.6294987 , 0.55420062, 0.39253385, 0.54715822, 0.62880705,\n",
       "       0.21650102, 0.05562417, 0.96215879, 0.18551305, 0.24193546,\n",
       "       0.70420057, 0.98581611, 0.12358773, 0.40240606, 0.85582478,\n",
       "       0.08491591, 0.25033644, 0.61371778, 0.82923206, 0.10263636,\n",
       "       0.41635547, 0.59213171, 0.54705089, 0.53554141, 0.99301659,\n",
       "       0.98411915, 0.21030714, 0.25564014, 0.40004198, 0.10096844,\n",
       "       0.14637315, 0.56501523, 0.9869442 , 0.29378302, 0.19845887,\n",
       "       0.61651994, 0.29750548, 0.01359419, 0.09370409, 0.87775262,\n",
       "       0.10872602, 0.64141413, 0.41871556, 0.76948405, 0.50913604,\n",
       "       0.23089804, 0.21116944, 0.23524108, 0.23371029, 0.25082029,\n",
       "       0.29936638, 0.59811942, 0.52777106, 0.06871761, 0.42072396,\n",
       "       0.92998013, 0.93959585, 0.31967223, 0.15554033, 0.29276942,\n",
       "       0.13267831, 0.25856908, 0.92479562, 0.87708237, 0.45226507,\n",
       "       0.5497937 , 0.70061621, 0.70132227, 0.69365893, 0.73606297,\n",
       "       0.5909845 , 0.13294688, 0.68692783, 0.66894323, 0.16234668,\n",
       "       0.19496082, 0.63657494, 0.38583867, 0.81082634, 0.27719726,\n",
       "       0.66617906, 0.61488419, 0.11056069, 0.27843425, 0.35345639,\n",
       "       0.30194219, 0.09099549, 0.23550291, 0.53721973, 0.22607817,\n",
       "       0.63579054, 0.41503913, 0.45636295, 0.20697351, 0.78651879,\n",
       "       0.07745509, 0.94440349, 0.58934317, 0.94425135, 0.5492193 ,\n",
       "       0.35159908, 0.36985564, 0.92930105, 0.52087061, 0.39438049,\n",
       "       0.15598451, 0.15174028, 0.4159864 , 0.45203882, 0.80422819,\n",
       "       0.1216879 , 0.45411715, 0.13300579, 0.2539561 , 0.49312825,\n",
       "       0.87691588, 0.13230636, 0.17424819, 0.70619961, 0.52721846,\n",
       "       0.087695  , 0.68100361, 0.95834903, 0.73825487, 0.9964816 ,\n",
       "       0.74279154, 0.3289304 , 0.80034595, 0.56787535, 0.09133995,\n",
       "       0.36243271, 0.9462756 , 0.65492738, 0.36991639, 0.70850435,\n",
       "       0.68315782, 0.15832343, 0.46072496, 0.80586212, 0.11635039,\n",
       "       0.54763839, 0.11886073, 0.2748959 , 0.7664542 , 0.3576982 ,\n",
       "       0.82241602, 0.72611174, 0.63568696, 0.1503833 , 0.45219568,\n",
       "       0.87827864, 0.63267066, 0.06868851, 0.5020887 , 0.46688802,\n",
       "       0.48721682, 0.41454647, 0.81367542, 0.53227498, 0.85831323,\n",
       "       0.95351183, 0.895208  , 0.76981454, 0.02147006, 0.00177836,\n",
       "       0.17154903, 0.51715473, 0.29937142, 0.1322176 , 0.92680632,\n",
       "       0.42984618, 0.19876075, 0.51155671, 0.98164917, 0.72294483,\n",
       "       0.92461748, 0.11612272, 0.74103998, 0.33755783, 0.36019266,\n",
       "       0.45678005, 0.46275665, 0.79093517, 0.29575051, 0.46146589,\n",
       "       0.43313903, 0.62254965, 0.5585949 , 0.04740737, 0.85397489,\n",
       "       0.64256909, 0.15212173, 0.49579331, 0.90028886, 0.88276535,\n",
       "       0.40365408, 0.2382463 , 0.95181841, 0.73519472, 0.66333272,\n",
       "       0.40889652, 0.86521375, 0.19289379, 0.82802054, 0.80025525,\n",
       "       0.52225306, 0.3639548 , 0.68624492, 0.38830638, 0.41360367,\n",
       "       0.26964155, 0.78326828, 0.15382401, 0.4950853 , 0.44201682,\n",
       "       0.98606868, 0.11027778, 0.56549225, 0.22175259, 0.95042397,\n",
       "       0.12571714, 0.9163971 , 0.64561621, 0.19077339, 0.41446536,\n",
       "       0.2757438 , 0.47744453, 0.82471407, 0.48091166, 0.98513651,\n",
       "       0.91160761, 0.21626896, 0.1326575 , 0.68394761, 0.35990371,\n",
       "       0.26540484, 0.92549658, 0.57841146, 0.26855311, 0.56333748,\n",
       "       0.55038301, 0.79926246, 0.41226899, 0.50416439, 0.15219385,\n",
       "       0.8487494 , 0.9192292 , 0.00214704, 0.75543213, 0.973171  ,\n",
       "       0.85903306, 0.79949204, 0.2153267 , 0.99076444, 0.37323376,\n",
       "       0.85775385, 0.7783426 , 0.60671695, 0.9649848 , 0.95737623,\n",
       "       0.44370039, 0.47245969, 0.90305327, 0.45135175, 0.8689432 ,\n",
       "       0.22692452, 0.25245973, 0.38753314, 0.30885314, 0.45316705,\n",
       "       0.2215557 , 0.16398265, 0.38067023, 0.17772138, 0.3432666 ,\n",
       "       0.39672897, 0.9420742 , 0.41695678, 0.59084393, 0.92405279,\n",
       "       0.44420321, 0.27553312, 0.56724901, 0.82470659, 0.28400078,\n",
       "       0.73733227, 0.48127851, 0.52816772, 0.644314  , 0.46781092,\n",
       "       0.1862254 , 0.23138241, 0.04836611, 0.88172958, 0.6517751 ,\n",
       "       0.93894598, 0.31762257, 0.55897519, 0.57045233, 0.13952009,\n",
       "       0.55569569, 0.60553346, 0.4316789 , 0.34920036, 0.23630718,\n",
       "       0.07699087, 0.59871844, 0.19644018, 0.08057523, 0.98344255,\n",
       "       0.8902411 , 0.36113692, 0.47101246, 0.2046988 , 0.98639626,\n",
       "       0.30079772, 0.83557173, 0.74744073, 0.01679759, 0.0373027 ,\n",
       "       0.44008969, 0.03064513, 0.91833795, 0.97035205, 0.61271034,\n",
       "       0.30587525, 0.21294377, 0.13591121, 0.56687434, 0.15733404,\n",
       "       0.21963747, 0.71950734, 0.86910493, 0.63325264, 0.95613918])"
      ]
     },
     "execution_count": 28,
     "metadata": {},
     "output_type": "execute_result"
    }
   ],
   "source": [
    "rg = np.random.default_rng(2)\n",
    "aleatorio = rg.random(1000)\n",
    "aleatorio"
   ]
  },
  {
   "cell_type": "code",
   "execution_count": 29,
   "metadata": {},
   "outputs": [
    {
     "data": {
      "image/png": "[encoded data removed]",
      "text/plain": [
       "<Figure size 640x480 with 1 Axes>"
      ]
     },
     "metadata": {},
     "output_type": "display_data"
    }
   ],
   "source": [
    "import matplotlib.pyplot as plt\n",
    "# Generar un histograma\n",
    "plt.hist(aleatorio, bins = 100)\n",
    "plt.show()"
   ]
  },
  {
   "cell_type": "code",
   "execution_count": 30,
   "metadata": {},
   "outputs": [
    {
     "data": {
      "text/plain": [
       "array([13.51638928, 14.60947682,  6.23501862, ...,  3.56636798,\n",
       "        8.66660197, 12.61968552])"
      ]
     },
     "execution_count": 30,
     "metadata": {},
     "output_type": "execute_result"
    }
   ],
   "source": [
    "normal = rg.normal(10,5,100000)\n",
    "normal"
   ]
  },
  {
   "cell_type": "code",
   "execution_count": 31,
   "metadata": {},
   "outputs": [
    {
     "data": {
      "image/png": "[encoded data removed]",
      "text/plain": [
       "<Figure size 640x480 with 1 Axes>"
      ]
     },
     "metadata": {},
     "output_type": "display_data"
    }
   ],
   "source": [
    "plt.hist(normal, bins = 1000)\n",
    "plt.show()"
   ]
  },
  {
   "cell_type": "markdown",
   "metadata": {},
   "source": [
    "### Operaciones con arreglos"
   ]
  },
  {
   "cell_type": "markdown",
   "metadata": {},
   "source": [
    "#### Operaciones\n",
    "* `np.vstack(())`: une dos arreglos verticalmente.\n",
    "* `np.hstack(())`: une dos arreglos horizontalmente.\n",
    "* `arreglo1 + arreglo2 + arreglo3`: suma de arreglos."
   ]
  },
  {
   "cell_type": "markdown",
   "metadata": {},
   "source": [
    "#### Selección de valores en arreglos"
   ]
  },
  {
   "cell_type": "code",
   "execution_count": 35,
   "metadata": {},
   "outputs": [
    {
     "data": {
      "text/plain": [
       "array([ 6, 12,  3, ..., 17, 10,  5], dtype=int64)"
      ]
     },
     "execution_count": 35,
     "metadata": {},
     "output_type": "execute_result"
    }
   ],
   "source": [
    "enteros = rg.integers(20, size = 2000)\n",
    "enteros"
   ]
  },
  {
   "cell_type": "code",
   "execution_count": 37,
   "metadata": {},
   "outputs": [
    {
     "data": {
      "text/plain": [
       "array([ 6, 12,  3,  8, 12, 12], dtype=int64)"
      ]
     },
     "execution_count": 37,
     "metadata": {},
     "output_type": "execute_result"
    }
   ],
   "source": [
    "# Toma los primeros 6 valores del arreglo enteros\n",
    "enteros[0:6]"
   ]
  },
  {
   "cell_type": "code",
   "execution_count": 38,
   "metadata": {},
   "outputs": [
    {
     "data": {
      "text/plain": [
       "array([ 6,  3, 12], dtype=int64)"
      ]
     },
     "execution_count": 38,
     "metadata": {},
     "output_type": "execute_result"
    }
   ],
   "source": [
    "# Selecciona todos los valores del 0 al 5 y los selecciona de 2 en 2\n",
    "enteros[0:5:2]"
   ]
  },
  {
   "cell_type": "code",
   "execution_count": 39,
   "metadata": {},
   "outputs": [
    {
     "data": {
      "text/plain": [
       "array([ 6,  3, 12,  2, 17, 13, 16,  4,  7,  0,  2,  3,  3,  6,  2,  7, 13,\n",
       "        2, 14, 17, 10,  3, 19,  7, 17,  5,  7,  9,  3,  9,  2, 14, 17,  0,\n",
       "        6,  1, 10,  5,  1, 18, 18, 15, 16,  9,  0, 12, 19,  2, 12,  8,  1,\n",
       "        9,  5,  9, 10,  2, 19,  0, 17,  3,  3, 16, 13,  1,  8, 17, 13, 10,\n",
       "       18,  8, 15,  8, 16,  4,  8, 10, 17, 12, 13,  0,  6, 19,  2, 18, 12,\n",
       "       18, 18,  9, 19, 13,  5, 10,  9,  0,  6,  4,  6,  7,  0, 17, 18, 16,\n",
       "       11,  6,  3, 10, 15, 10, 16, 11, 15,  5, 10, 16,  1, 16,  0, 14, 19,\n",
       "       11,  2,  0,  7,  4, 14,  3, 12, 13, 11,  5, 19,  2,  1, 11,  5,  8,\n",
       "        0,  6,  0, 14, 10,  4, 16,  7,  1,  6, 10,  5, 18, 10,  4,  2, 13,\n",
       "       15, 12,  6,  5,  0, 17, 15, 11,  7,  9, 13,  3,  9,  4,  0,  1,  2,\n",
       "       13,  6,  6,  0, 17, 12, 10, 14, 19,  0,  1,  3, 13, 10,  5,  5,  2,\n",
       "        3,  9,  1,  2, 17, 15,  9, 19,  5, 17, 10, 16, 13, 15, 19,  5, 10,\n",
       "       18, 16, 12, 15,  2, 12,  8,  6, 17, 12,  4, 18, 15, 15, 11,  3, 19,\n",
       "       14, 16,  4,  5,  6,  0, 16, 17, 10,  6, 18,  5,  3,  1,  5,  6,  1,\n",
       "       15, 16, 10, 11, 16,  8, 14,  9,  7, 15,  1, 10, 19, 12, 17, 16, 14,\n",
       "        2, 10,  4, 14, 17,  5,  2,  5, 16, 12,  9,  9, 18,  4,  4,  8,  4,\n",
       "        8,  1, 19,  8,  3,  4,  4, 15,  0, 16,  6, 19,  5, 12, 18, 13,  4,\n",
       "        2,  6,  8, 19, 12,  1,  7,  4, 12,  2, 11,  9, 14,  5, 17,  3, 14,\n",
       "       19,  6, 17, 10,  7,  0, 14,  9,  1, 13, 15, 18,  1, 12, 10, 15, 11,\n",
       "       18,  2, 12, 15, 19,  6,  7,  9,  1,  3,  6,  9, 11, 15,  3,  0,  1,\n",
       "        7, 13, 15,  0,  0, 11,  0,  4,  7,  2, 17,  3,  4, 12,  6, 16,  8,\n",
       "       11,  0, 13,  4, 16, 19,  3, 15, 18,  9, 16, 16, 15, 11,  0,  2, 12,\n",
       "       18,  2, 14,  8,  8, 16,  5, 18, 19,  9,  8, 11,  6,  1,  2,  8,  7,\n",
       "       13,  3, 12, 11, 16, 10, 10, 10, 14,  6, 19,  3,  5, 12,  1, 16, 13,\n",
       "       18, 15,  3, 14,  0, 10, 18, 16,  4, 17, 14,  1, 19,  6, 16, 12,  4,\n",
       "        1, 18, 11, 18, 13, 10, 14,  5, 16,  7,  4,  6,  2, 15,  0, 18,  4,\n",
       "       12,  8,  8, 17,  2,  8,  9,  9, 13,  9,  2,  8, 13, 17,  0, 14, 16,\n",
       "        4,  8, 13, 17,  5,  0,  4,  5, 16, 11, 10,  0,  6,  8,  2,  0,  1,\n",
       "       11,  2, 14, 11,  6,  0,  3,  6, 16,  8, 14,  3, 11,  4, 19, 11,  7,\n",
       "        8, 16,  9,  1,  0,  0, 15, 14,  1,  3,  1, 14,  6,  3,  5, 15, 11,\n",
       "        9,  5, 12,  7, 19, 11,  6,  7,  0,  7, 19, 19,  4,  9,  1, 18, 17,\n",
       "        1, 12,  9, 11, 14,  7, 18, 17,  7, 11, 17, 19,  1,  2, 15,  8,  8,\n",
       "       17, 15,  1,  1, 13, 14,  6, 16,  2,  5, 13, 18,  3, 19, 15, 18,  0,\n",
       "        7,  7, 14, 18, 17, 17,  6, 16, 17,  6,  9,  5,  2, 15, 13, 18, 19,\n",
       "        6,  3,  6, 16, 10, 19, 15, 10, 12, 10,  7, 15,  4,  3, 18, 16,  5,\n",
       "       18, 16,  5, 16,  7,  3, 17, 15, 12,  4, 12, 18,  2, 12,  9,  9,  6,\n",
       "        2, 11, 19, 16,  6, 11, 14,  0, 12,  7,  2,  1,  6, 11,  9, 18,  9,\n",
       "        6, 12, 15,  6, 10, 17,  9, 16, 18,  2,  5,  7, 17, 16, 15,  2,  7,\n",
       "       11,  2,  3,  8, 16, 12, 16, 15, 11,  9,  6, 12, 17, 19,  8,  6, 10,\n",
       "        5, 12,  3, 18,  3, 17,  8, 17,  1, 11, 16, 18,  6, 19,  1, 11, 16,\n",
       "       10,  7, 18,  4, 19,  7,  5, 17,  8,  3,  1, 10, 14, 13, 11,  1, 10,\n",
       "        8,  0,  2,  7,  5, 12,  3,  2,  3,  5, 12,  6,  8,  3, 18,  4, 16,\n",
       "       10, 11, 12,  0,  4, 19,  8,  2,  0, 14,  8,  2, 14,  3, 13,  5, 17,\n",
       "        9, 13,  4, 12,  1, 19, 16,  6,  7, 13,  8,  3, 16, 17,  8,  6,  9,\n",
       "       10,  3, 10,  1,  0, 18,  3, 19,  3,  6, 10,  0,  9, 19,  7,  0, 13,\n",
       "        0,  3,  4, 13, 14, 18, 10, 13,  1, 16,  8, 17,  5,  4, 18, 12,  8,\n",
       "        3,  6, 18,  6,  5,  3, 14, 10, 10,  9,  2,  0,  0, 11, 10, 14, 14,\n",
       "        6, 11, 15,  0, 19,  8, 10,  9, 15, 11,  0,  3, 12,  7, 13,  6, 19,\n",
       "       19,  5,  0, 15,  1,  5, 13,  1,  7,  6,  8,  1,  5,  8,  3, 18,  3,\n",
       "       18, 16, 14,  4,  9,  0,  5, 11, 10, 14,  6, 17, 17,  7,  4, 15,  2,\n",
       "        2, 15, 11,  7, 17, 15,  8, 18,  8,  5,  6,  9, 14,  3, 19, 16, 10,\n",
       "       11,  9,  8,  3,  5,  8,  9, 19,  7, 15,  6,  7,  8, 18,  9,  0,  6,\n",
       "        5,  0, 18, 19,  3, 14, 15,  4,  1,  8,  5, 13,  3, 14, 14,  6,  8,\n",
       "        3,  0,  3, 19, 16,  5,  6,  7, 18, 12, 12, 13,  2,  3, 13,  7, 15,\n",
       "       15,  6,  1,  9,  0, 11,  7,  3,  9, 13, 10, 19, 17, 15, 12,  6,  9,\n",
       "       17,  8,  4,  6,  4,  7,  7,  7,  5,  3,  2,  7, 10,  9,  9, 16, 14,\n",
       "       18,  0, 17,  1, 17,  9,  5, 15,  0, 16,  4, 15,  0, 13, 10, 19,  9,\n",
       "       12,  4, 15,  7,  5,  0, 12, 14,  4,  0, 14, 11,  8,  6, 16,  8, 10,\n",
       "       15,  2,  4, 11, 11,  8, 17, 16,  8,  8, 14,  0, 17, 10],\n",
       "      dtype=int64)"
      ]
     },
     "execution_count": 39,
     "metadata": {},
     "output_type": "execute_result"
    }
   ],
   "source": [
    "# Selecciona todos los valores con índice par\n",
    "enteros[::2]"
   ]
  },
  {
   "cell_type": "markdown",
   "metadata": {},
   "source": [
    "#### Búsqueda de valores\n",
    "Se pueden buscar valores en los arreglos según su índice:\n",
    "* `lista.argmax()`: encuentra el índice del valor máximo del arreglo.\n",
    "* `lista.argmin()`: encuentra el índice del valor mínimo del arreglo.\n",
    "\n",
    "Para seleccionar un valor de un arreglo de dos dimensiones, se debe tener en cuenta que Python tomará cada fila como un arreglo, donde el primero tendrá índice cero. Lo mismo ocurrirá con cada fila de dicho arreglo, como se muestra a continuación:\n",
    "```\n",
    "#       0   1   2\n",
    "array([[18, 11, 2], # índice 0\n",
    "       [20, 6,  9], # índice 1\n",
    "       [12, 8,  7]]) # índice 2\n",
    "```\n",
    "Por lo tanto, para obtener el valor 7 se debe escribir `arreglo[2,2]`."
   ]
  },
  {
   "cell_type": "code",
   "execution_count": 40,
   "metadata": {},
   "outputs": [
    {
     "data": {
      "text/plain": [
       "array([[10,  1,  2, 18, 16],\n",
       "       [14,  2, 19, 19, 15],\n",
       "       [19, 15, 10, 15, 16],\n",
       "       [ 5,  9, 18, 14,  7],\n",
       "       [19, 17,  8, 11,  2],\n",
       "       [ 0, 14,  8, 19,  3],\n",
       "       [ 4,  1,  8, 15, 15],\n",
       "       [ 4,  3,  8,  8, 12]], dtype=int64)"
      ]
     },
     "execution_count": 40,
     "metadata": {},
     "output_type": "execute_result"
    }
   ],
   "source": [
    "enteros_2d = rg.integers(20,size=(8,5))\n",
    "enteros_2d"
   ]
  },
  {
   "cell_type": "code",
   "execution_count": 41,
   "metadata": {},
   "outputs": [
    {
     "data": {
      "text/plain": [
       "16"
      ]
     },
     "execution_count": 41,
     "metadata": {},
     "output_type": "execute_result"
    }
   ],
   "source": [
    "# Selecciona el 5to valor del tercer arreglo\n",
    "enteros_2d[2,4]"
   ]
  },
  {
   "cell_type": "code",
   "execution_count": 42,
   "metadata": {},
   "outputs": [
    {
     "data": {
      "text/plain": [
       "array([ 9, 17, 14], dtype=int64)"
      ]
     },
     "execution_count": 42,
     "metadata": {},
     "output_type": "execute_result"
    }
   ],
   "source": [
    "# Selecciona el segundo valor con ínidce 3,4,5\n",
    "enteros_2d[3:6,1]"
   ]
  },
  {
   "cell_type": "markdown",
   "metadata": {},
   "source": [
    "#### Funciones estadísticas\n",
    "* `max()`: máximo.\n",
    "* `min()`: mínimo.\n",
    "* `np.mean(arreglo)`: media.\n",
    "* `np.std(arreglo)`: desviación estándar.\n",
    "* `np.sum(arreglo)`: suma total.\n",
    "* `np.median(arreglo)`: mediana.\n",
    "* `np.var(arreglo)`: varianza.\n",
    "* `np.percentile(arreglo, n)`: percentil n.\n",
    "* `min(axis=0)`: con `axis=0` se le dice al programa que trabaje a lo largo de las columnas, por lo que al usar este comando devolverá el valor mínimo de cada columna.\n",
    "* `max(axis=1)`: con `axis=1` se le dice al programa que trabaje a lo largo de una fila, por lo que al usar este comando devolverá el valor máximo de cada fila."
   ]
  },
  {
   "cell_type": "code",
   "execution_count": 43,
   "metadata": {},
   "outputs": [
    {
     "data": {
      "text/plain": [
       "array([ 8, 19,  8, 19,  5,  2, 13,  0], dtype=int64)"
      ]
     },
     "execution_count": 43,
     "metadata": {},
     "output_type": "execute_result"
    }
   ],
   "source": [
    "estadisticas = rg.integers(20, size=8)\n",
    "estadisticas"
   ]
  },
  {
   "cell_type": "code",
   "execution_count": 44,
   "metadata": {},
   "outputs": [
    {
     "name": "stdout",
     "output_type": "stream",
     "text": [
      "El valor mínimo es  0\n",
      "El valor máximo es  19\n",
      "La media es  9.25\n",
      "La desviación estándar es  6.740734381356382\n",
      "La varianza es  45.4375\n",
      "La suma total es  74\n"
     ]
    }
   ],
   "source": [
    "minimo = estadisticas.min()\n",
    "print('El valor mínimo es ', minimo)\n",
    "maximo = estadisticas.max()\n",
    "print('El valor máximo es ', maximo)\n",
    "media = np.mean(estadisticas)\n",
    "print('La media es ', media)\n",
    "desv_est = np.std(estadisticas)\n",
    "print('La desviación estándar es ', desv_est)\n",
    "varianza = np.var(estadisticas)\n",
    "print('La varianza es ', varianza)\n",
    "suma_tot = np.sum(estadisticas)\n",
    "print('La suma total es ', suma_tot)"
   ]
  },
  {
   "cell_type": "markdown",
   "metadata": {
    "editable": true,
    "slideshow": {
     "slide_type": ""
    },
    "tags": []
   },
   "source": [
    "### Filtros\n",
    "Para filtrar datos en arreglos, se pueden usar las operaciones lógicas, como en el siguiente ejemplo:"
   ]
  },
  {
   "cell_type": "code",
   "execution_count": 45,
   "metadata": {},
   "outputs": [
    {
     "data": {
      "text/plain": [
       "array([[ 4, 10,  6, 10],\n",
       "       [ 9,  0,  4,  2],\n",
       "       [18, 15,  1,  8],\n",
       "       [17, 17, 16,  1],\n",
       "       [15,  1, 13,  4]], dtype=int64)"
      ]
     },
     "execution_count": 45,
     "metadata": {},
     "output_type": "execute_result"
    }
   ],
   "source": [
    "est_2d = rg.integers(20, size=(5,4))\n",
    "est_2d"
   ]
  },
  {
   "cell_type": "code",
   "execution_count": 46,
   "metadata": {},
   "outputs": [
    {
     "data": {
      "text/plain": [
       "array([ 4, 10,  6, 10,  9,  0,  4,  2,  1,  8,  1,  1,  4], dtype=int64)"
      ]
     },
     "execution_count": 46,
     "metadata": {},
     "output_type": "execute_result"
    }
   ],
   "source": [
    "est_2d[est_2d<12]"
   ]
  },
  {
   "cell_type": "markdown",
   "metadata": {},
   "source": [
    "También, se puede usar `np.logical_and()` y `np.logical_or()`.\n",
    "1. `np.logical_and()`: realiza operaciones lógicas de \"y\" elemento a elemento. Si ambos elementos son **True**, el resultado es **True**. Si al menos un elemento es **False**, el resultado será **False**.\n",
    "2. `np.logical_or()`: realiza operaciones lógicas de \"o\" elemento a elemento. Si ambos elementos son **False**, el resultado es **Flase**. Si al menos un elemento es **True**, el resultado será **True**.\n",
    "\n",
    "Sin embargo, para poder filtrar los valores de un arreglo usando estos códigos, se debe usar la siguiente sintaxis: `nom_arreglo[np.logical_or()]`. De esta forma, devolverá un arreglo con los valores que cumplan las condiciones dadas y no los valores booleanos **True** y **False**."
   ]
  },
  {
   "cell_type": "code",
   "execution_count": 47,
   "metadata": {},
   "outputs": [
    {
     "data": {
      "text/plain": [
       "array([12,  3,  8, 12, 12,  2, 15], dtype=int64)"
      ]
     },
     "execution_count": 47,
     "metadata": {},
     "output_type": "execute_result"
    }
   ],
   "source": [
    "enteros2 = enteros[1:8]\n",
    "enteros2"
   ]
  },
  {
   "cell_type": "code",
   "execution_count": 48,
   "metadata": {},
   "outputs": [
    {
     "data": {
      "text/plain": [
       "array([12,  8, 12, 12], dtype=int64)"
      ]
     },
     "execution_count": 48,
     "metadata": {},
     "output_type": "execute_result"
    }
   ],
   "source": [
    "enteros2[np.logical_and(enteros2 > 5, enteros2 <13)]"
   ]
  },
  {
   "cell_type": "code",
   "execution_count": 49,
   "metadata": {},
   "outputs": [
    {
     "data": {
      "text/plain": [
       "array([ 3,  2, 15], dtype=int64)"
      ]
     },
     "execution_count": 49,
     "metadata": {},
     "output_type": "execute_result"
    }
   ],
   "source": [
    "enteros2[np.logical_or(enteros2 < 5, enteros2 > 13)]"
   ]
  },
  {
   "cell_type": "markdown",
   "metadata": {},
   "source": [
    "### Orden"
   ]
  },
  {
   "cell_type": "code",
   "execution_count": 57,
   "metadata": {},
   "outputs": [
    {
     "data": {
      "text/plain": [
       "array([ 2,  3,  8, 12, 12, 12, 15], dtype=int64)"
      ]
     },
     "execution_count": 57,
     "metadata": {},
     "output_type": "execute_result"
    }
   ],
   "source": [
    "enteros2.sort()\n",
    "enteros2"
   ]
  },
  {
   "cell_type": "markdown",
   "metadata": {
    "editable": true,
    "slideshow": {
     "slide_type": ""
    },
    "tags": []
   },
   "source": [
    "## Pandas\n",
    "Pandas es una librería que se enfoca en la manipulación y análisis de estructura de datos. Se basa en NumPy y proporciona los siguientes tipos de datos:\n",
    "1. Series: Estructuras de una dimensión.\n",
    "2. DataFrame: Estructura de dos dimensiones.\n",
    "3. Panel: Estructura de tres dimensiones.\n",
    "\n",
    "Como NumPy, Pandas es capaz de leer datos como archivos excel, html, csv...\n",
    "```\n",
    "df = pd.read_excel(\"archivo_de_excel_1.xlsx\")\n",
    "df = pd.read_csv(\"archivo_csv_1.csv\", delimiter=',')\n",
    "```\n",
    "\n",
    "En Pandas, se utiliza usualmente la notación de punto para acceder a los atributos de un Dataframe."
   ]
  },
  {
   "cell_type": "markdown",
   "metadata": {},
   "source": [
    "### Series\n",
    "Las series son una estructura de una dimensión que permite almacenar información de diferentes tipos de datos.\n",
    "\n",
    "Para crear una serie, se debe importar  series de la librería pandas:"
   ]
  },
  {
   "cell_type": "code",
   "execution_count": 50,
   "metadata": {},
   "outputs": [],
   "source": [
    "import pandas as pd\n",
    "from pandas import Series"
   ]
  },
  {
   "cell_type": "markdown",
   "metadata": {},
   "source": [
    "Luego se define la serie con las siguientes sintaxis:\n",
    "- `Series(data=<lista>, index=<indices>, dtype='<tipo>')`: para crear la serie a partir de una lista.\n",
    "- `Series(data=<diccionario>, index=<indices>)`: para crear la serie a partir de un diccionario."
   ]
  },
  {
   "cell_type": "code",
   "execution_count": 51,
   "metadata": {
    "editable": true,
    "slideshow": {
     "slide_type": ""
    },
    "tags": []
   },
   "outputs": [
    {
     "data": {
      "text/plain": [
       "0    17\n",
       "1     3\n",
       "2     5\n",
       "3     6\n",
       "4     8\n",
       "5     4\n",
       "6     2\n",
       "7     3\n",
       "8    54\n",
       "dtype: int32"
      ]
     },
     "execution_count": 51,
     "metadata": {},
     "output_type": "execute_result"
    }
   ],
   "source": [
    "s = Series([17,3,5,6,8,4,2,3,54], dtype='int')\n",
    "s"
   ]
  },
  {
   "cell_type": "code",
   "execution_count": 52,
   "metadata": {},
   "outputs": [
    {
     "data": {
      "text/plain": [
       "Alto     5\n",
       "Largo    7\n",
       "Ancho    9\n",
       "dtype: int64"
      ]
     },
     "execution_count": 52,
     "metadata": {},
     "output_type": "execute_result"
    }
   ],
   "source": [
    "sdiccionario= pd.Series({'Alto': 5, 'Largo': 7, 'Ancho': 9})\n",
    "sdiccionario"
   ]
  },
  {
   "cell_type": "markdown",
   "metadata": {},
   "source": [
    "#### Propiedades\n",
    "Existen propiedades para que el programa imprima las características de una serie:\n",
    "\n",
    "1. `nom_serie.size`: retorna el número de elementos de la serie.\n",
    "2. `nom_serie.index`: retorna los nombres de las filas en una lista.\n",
    "3. `nom_serie.dtype`: retorna el tipo de datos de los elementos que contiene la serie.\n",
    "4. `nom_serie.dropna()`: elimina los datos nulos de la serie."
   ]
  },
  {
   "cell_type": "markdown",
   "metadata": {},
   "source": [
    "#### Búsqueda de valores\n",
    "Para acceder a los elementos, se realiza de forma similar a la de una lista: `nom_serie[indice]` o `nom_serie['elemento']`."
   ]
  },
  {
   "cell_type": "markdown",
   "metadata": {},
   "source": [
    "#### Funciones estadísticas\n",
    "1. `nom_serie.sum()`: devuelve la suma de los datos de la serie. Si son strings, retornará la concatenación de ellos.\n",
    "2. `nom_serie.count()`: devuelve el número de elementos de la serie, excluyendo los nulos y NaN.\n",
    "3. `nom_serie.min()`: devuelve el mínimo.\n",
    "4. `nom_serie.max()`: devuleve el máximo.\n",
    "5. `nom_serie.mean()`: devuelve la media aritmetica.\n",
    "6. `nom_serie.var()`: devuelve la varianza.\n",
    "7. `nom_serie.std()`: devuelve la desviación estándar.\n",
    "8. `nom_serie.describe()`: devuelve un resumen estadístico de los datos."
   ]
  },
  {
   "cell_type": "markdown",
   "metadata": {},
   "source": [
    "#### Filtros\n",
    "Se le puede añadir una condición a una serie de la siguiente forma:\n",
    "`nom_serie[nom_serie[condicion]]`."
   ]
  },
  {
   "cell_type": "code",
   "execution_count": 53,
   "metadata": {},
   "outputs": [
    {
     "data": {
      "text/plain": [
       "1    3\n",
       "2    5\n",
       "3    6\n",
       "5    4\n",
       "6    2\n",
       "7    3\n",
       "dtype: int32"
      ]
     },
     "execution_count": 53,
     "metadata": {},
     "output_type": "execute_result"
    }
   ],
   "source": [
    "s[s<8]"
   ]
  },
  {
   "cell_type": "markdown",
   "metadata": {},
   "source": [
    "#### Orden\n",
    "Para ordenar una serie, se pueden usar `nom_serie.sort_values(ascending=True)`, el cual devuelve una serie ordenada da forma creciente (`ascending=True`) o decreciente (`ascending=False`)."
   ]
  },
  {
   "cell_type": "code",
   "execution_count": 55,
   "metadata": {},
   "outputs": [
    {
     "data": {
      "text/plain": [
       "8    54\n",
       "0    17\n",
       "4     8\n",
       "3     6\n",
       "2     5\n",
       "5     4\n",
       "1     3\n",
       "7     3\n",
       "6     2\n",
       "dtype: int32"
      ]
     },
     "execution_count": 55,
     "metadata": {},
     "output_type": "execute_result"
    }
   ],
   "source": [
    "s.sort_values(ascending=False)"
   ]
  },
  {
   "cell_type": "markdown",
   "metadata": {},
   "source": [
    "### DataFrame\n",
    "Un DataFrame es una estructura que posee forma de tabla, por lo tanto se compone de filas y columnas. Cada columna es un objeto tipo Series, es decir, los datos de ella son del mismo tipo, mientras que las filas pueden tener datos de diferentes tipos. Como una tabla, un DataFrame tiene un índice para las columnas y otro para las filas. Es posible acceder a sus valores mediante códigos aplicados a ellas."
   ]
  },
  {
   "cell_type": "markdown",
   "metadata": {},
   "source": [
    "#### Creación de un DataFrame\n",
    "Para crear un DataFrame se utiliza la siguiente sintaxis: `pd.DataFrame(data=<datos>, index=<filas>, columns=<columnas>, dtype='<tipo>')`. Como en las Series, se pueden crear DataFrames a partir de una lista de listas, lista de diccionarios, un array.\n",
    "\n",
    "Ejemplo:"
   ]
  },
  {
   "cell_type": "code",
   "execution_count": 4,
   "metadata": {},
   "outputs": [
    {
     "data": {
      "text/html": [
       "<div>\n",
       "<style scoped>\n",
       "    .dataframe tbody tr th:only-of-type {\n",
       "        vertical-align: middle;\n",
       "    }\n",
       "\n",
       "    .dataframe tbody tr th {\n",
       "        vertical-align: top;\n",
       "    }\n",
       "\n",
       "    .dataframe thead th {\n",
       "        text-align: right;\n",
       "    }\n",
       "</style>\n",
       "<table border=\"1\" class=\"dataframe\">\n",
       "  <thead>\n",
       "    <tr style=\"text-align: right;\">\n",
       "      <th></th>\n",
       "      <th>nombre</th>\n",
       "      <th>edad</th>\n",
       "      <th>sexo</th>\n",
       "      <th>carrera</th>\n",
       "    </tr>\n",
       "  </thead>\n",
       "  <tbody>\n",
       "    <tr>\n",
       "      <th>0</th>\n",
       "      <td>Mario</td>\n",
       "      <td>33</td>\n",
       "      <td>M</td>\n",
       "      <td>Ingeniería informática</td>\n",
       "    </tr>\n",
       "    <tr>\n",
       "      <th>1</th>\n",
       "      <td>Aurelia</td>\n",
       "      <td>15</td>\n",
       "      <td>F</td>\n",
       "      <td>Química</td>\n",
       "    </tr>\n",
       "    <tr>\n",
       "      <th>2</th>\n",
       "      <td>Julio</td>\n",
       "      <td>18</td>\n",
       "      <td>M</td>\n",
       "      <td>Física</td>\n",
       "    </tr>\n",
       "    <tr>\n",
       "      <th>3</th>\n",
       "      <td>Sertorio</td>\n",
       "      <td>43</td>\n",
       "      <td>M</td>\n",
       "      <td>Educación física</td>\n",
       "    </tr>\n",
       "  </tbody>\n",
       "</table>\n",
       "</div>"
      ],
      "text/plain": [
       "     nombre  edad sexo                 carrera\n",
       "0     Mario    33    M  Ingeniería informática\n",
       "1   Aurelia    15    F                 Química\n",
       "2     Julio    18    M                  Física\n",
       "3  Sertorio    43    M        Educación física"
      ]
     },
     "execution_count": 4,
     "metadata": {},
     "output_type": "execute_result"
    }
   ],
   "source": [
    "datos = {'nombre': ['Mario', 'Aurelia', 'Julio', 'Sertorio'],\n",
    "         'edad':[33, 15, 18, 43],\n",
    "         'sexo':['M', 'F', 'M', 'M'],\n",
    "         'carrera':['Ingeniería informática', 'Química', 'Física', 'Educación física']}\n",
    "df = pd.DataFrame(data=datos)\n",
    "df"
   ]
  },
  {
   "cell_type": "markdown",
   "metadata": {},
   "source": [
    "#### Lectura de archivos\n",
    "Pandas puede leer archivos de diferentes tipos mediante los siguientes códigos:\n",
    "\n",
    "- `df.read_csv('<nombre_archivo.csv', sep='<separador>', header=n)`: carga un archivo .csv. En `header` se coloca el valor de la columna que se usa como nombre de las columnas en el DataFrame.\n",
    "- `df.read_excel('<nombre_archivo.xlsx', sep='<separador>', header=n)`: carga un archivo Excel."
   ]
  },
  {
   "cell_type": "markdown",
   "metadata": {},
   "source": [
    "#### Propiedades\n",
    "\n",
    "1. `df.info()`: devuelve el número de filas, columnas, índice, tipo de datos de las filas y de las columnas del DataFrame.\n",
    "2. `df.shape`: devuelve el número de filas y columnas.\n",
    "3. `df.size`: devuelve el número de elementos del DataFrame.\n",
    "4. `df.head(n=<num>)`: devuelve las primeras num filas.\n",
    "5. `df.tail(n=<num>)`: devuelve las últimas num filas.\n",
    "6. `df.index`:  devuelve los nombres de las filas.\n",
    "7. `df.columns`: devuelve los nombres de las columnas.\n",
    "8. `df['<nom_columna>'].value_counts()`: recuento de valores de una columna.\n",
    "9. `df['<nom_columna>'].unique()`: devuelve solo los valores distintos.\n",
    "10. `df['<nom_columna>'].rank(ascending=False)`: devuelve un ranking."
   ]
  },
  {
   "cell_type": "markdown",
   "metadata": {},
   "source": [
    "#### Selecciones de datos\n",
    "Es posible seleccionar valores específicos de un DataFrame usando las posiciones con `df.iloc[filas, columnas]`. Se pueden especificar índices, rangos, valores por etiqueta o rangos de etiquetas.\n"
   ]
  },
  {
   "cell_type": "code",
   "execution_count": 29,
   "metadata": {},
   "outputs": [
    {
     "data": {
      "text/html": [
       "<div>\n",
       "<style scoped>\n",
       "    .dataframe tbody tr th:only-of-type {\n",
       "        vertical-align: middle;\n",
       "    }\n",
       "\n",
       "    .dataframe tbody tr th {\n",
       "        vertical-align: top;\n",
       "    }\n",
       "\n",
       "    .dataframe thead th {\n",
       "        text-align: right;\n",
       "    }\n",
       "</style>\n",
       "<table border=\"1\" class=\"dataframe\">\n",
       "  <thead>\n",
       "    <tr style=\"text-align: right;\">\n",
       "      <th></th>\n",
       "      <th>numeros_1</th>\n",
       "      <th>numeros_2</th>\n",
       "      <th>numeros_3</th>\n",
       "    </tr>\n",
       "  </thead>\n",
       "  <tbody>\n",
       "    <tr>\n",
       "      <th>0</th>\n",
       "      <td>5</td>\n",
       "      <td>16</td>\n",
       "      <td>28</td>\n",
       "    </tr>\n",
       "    <tr>\n",
       "      <th>1</th>\n",
       "      <td>9</td>\n",
       "      <td>3</td>\n",
       "      <td>46</td>\n",
       "    </tr>\n",
       "    <tr>\n",
       "      <th>2</th>\n",
       "      <td>9</td>\n",
       "      <td>17</td>\n",
       "      <td>41</td>\n",
       "    </tr>\n",
       "    <tr>\n",
       "      <th>3</th>\n",
       "      <td>10</td>\n",
       "      <td>41</td>\n",
       "      <td>28</td>\n",
       "    </tr>\n",
       "    <tr>\n",
       "      <th>4</th>\n",
       "      <td>26</td>\n",
       "      <td>30</td>\n",
       "      <td>24</td>\n",
       "    </tr>\n",
       "    <tr>\n",
       "      <th>5</th>\n",
       "      <td>13</td>\n",
       "      <td>30</td>\n",
       "      <td>22</td>\n",
       "    </tr>\n",
       "    <tr>\n",
       "      <th>6</th>\n",
       "      <td>43</td>\n",
       "      <td>4</td>\n",
       "      <td>20</td>\n",
       "    </tr>\n",
       "    <tr>\n",
       "      <th>7</th>\n",
       "      <td>35</td>\n",
       "      <td>1</td>\n",
       "      <td>18</td>\n",
       "    </tr>\n",
       "    <tr>\n",
       "      <th>8</th>\n",
       "      <td>3</td>\n",
       "      <td>22</td>\n",
       "      <td>46</td>\n",
       "    </tr>\n",
       "  </tbody>\n",
       "</table>\n",
       "</div>"
      ],
      "text/plain": [
       "   numeros_1  numeros_2  numeros_3\n",
       "0          5         16         28\n",
       "1          9          3         46\n",
       "2          9         17         41\n",
       "3         10         41         28\n",
       "4         26         30         24\n",
       "5         13         30         22\n",
       "6         43          4         20\n",
       "7         35          1         18\n",
       "8          3         22         46"
      ]
     },
     "execution_count": 29,
     "metadata": {},
     "output_type": "execute_result"
    }
   ],
   "source": [
    "df_numeros = pd.DataFrame({'numeros_1': np.random.randint(1, 50, 9),\n",
    "                          'numeros_2': np.random.randint(1, 50, 9),\n",
    "                          'numeros_3': np.random.randint(1, 50, 9)})\n",
    "df_numeros"
   ]
  },
  {
   "cell_type": "code",
   "execution_count": 30,
   "metadata": {},
   "outputs": [
    {
     "data": {
      "text/plain": [
       "22"
      ]
     },
     "execution_count": 30,
     "metadata": {},
     "output_type": "execute_result"
    }
   ],
   "source": [
    "# Buscando el número ubicado en la fila con índice 5 y columna con índice 2\n",
    "df_numeros.iloc[5,2]"
   ]
  },
  {
   "cell_type": "code",
   "execution_count": 31,
   "metadata": {},
   "outputs": [
    {
     "data": {
      "text/html": [
       "<div>\n",
       "<style scoped>\n",
       "    .dataframe tbody tr th:only-of-type {\n",
       "        vertical-align: middle;\n",
       "    }\n",
       "\n",
       "    .dataframe tbody tr th {\n",
       "        vertical-align: top;\n",
       "    }\n",
       "\n",
       "    .dataframe thead th {\n",
       "        text-align: right;\n",
       "    }\n",
       "</style>\n",
       "<table border=\"1\" class=\"dataframe\">\n",
       "  <thead>\n",
       "    <tr style=\"text-align: right;\">\n",
       "      <th></th>\n",
       "      <th>numeros_2</th>\n",
       "      <th>numeros_3</th>\n",
       "    </tr>\n",
       "  </thead>\n",
       "  <tbody>\n",
       "    <tr>\n",
       "      <th>0</th>\n",
       "      <td>16</td>\n",
       "      <td>28</td>\n",
       "    </tr>\n",
       "    <tr>\n",
       "      <th>1</th>\n",
       "      <td>3</td>\n",
       "      <td>46</td>\n",
       "    </tr>\n",
       "    <tr>\n",
       "      <th>2</th>\n",
       "      <td>17</td>\n",
       "      <td>41</td>\n",
       "    </tr>\n",
       "    <tr>\n",
       "      <th>3</th>\n",
       "      <td>41</td>\n",
       "      <td>28</td>\n",
       "    </tr>\n",
       "  </tbody>\n",
       "</table>\n",
       "</div>"
      ],
      "text/plain": [
       "   numeros_2  numeros_3\n",
       "0         16         28\n",
       "1          3         46\n",
       "2         17         41\n",
       "3         41         28"
      ]
     },
     "execution_count": 31,
     "metadata": {},
     "output_type": "execute_result"
    }
   ],
   "source": [
    "df_numeros.iloc[[0,1,2,3],[1,2]] # o df_numeros.iloc[[0:4],[1,2]]"
   ]
  },
  {
   "cell_type": "markdown",
   "metadata": {},
   "source": [
    "#### Funciones estadísticas\n",
    "\n",
    "1. `df.describe()`: devuelve varias medidas estadísticas."
   ]
  },
  {
   "cell_type": "markdown",
   "metadata": {},
   "source": [
    "#### Manipulación de las filas y columnas\n",
    "Para cambiar el nombre a las filas y columnas, se utiliza el comando `rename()` donde se le debe especificar con claves y valores el cambio de los nombres. `inplace=True` cambia los valores modificando el DataFrame original, sin embargo, se puede omitir."
   ]
  },
  {
   "cell_type": "code",
   "execution_count": 8,
   "metadata": {},
   "outputs": [
    {
     "data": {
      "text/html": [
       "<div>\n",
       "<style scoped>\n",
       "    .dataframe tbody tr th:only-of-type {\n",
       "        vertical-align: middle;\n",
       "    }\n",
       "\n",
       "    .dataframe tbody tr th {\n",
       "        vertical-align: top;\n",
       "    }\n",
       "\n",
       "    .dataframe thead th {\n",
       "        text-align: right;\n",
       "    }\n",
       "</style>\n",
       "<table border=\"1\" class=\"dataframe\">\n",
       "  <thead>\n",
       "    <tr style=\"text-align: right;\">\n",
       "      <th></th>\n",
       "      <th>nombre</th>\n",
       "      <th>edad</th>\n",
       "      <th>sexo</th>\n",
       "      <th>carrera del alumno</th>\n",
       "    </tr>\n",
       "  </thead>\n",
       "  <tbody>\n",
       "    <tr>\n",
       "      <th>0</th>\n",
       "      <td>Mario</td>\n",
       "      <td>33</td>\n",
       "      <td>M</td>\n",
       "      <td>Ingeniería informática</td>\n",
       "    </tr>\n",
       "    <tr>\n",
       "      <th>1</th>\n",
       "      <td>Aurelia</td>\n",
       "      <td>15</td>\n",
       "      <td>F</td>\n",
       "      <td>Química</td>\n",
       "    </tr>\n",
       "    <tr>\n",
       "      <th>2</th>\n",
       "      <td>Julio</td>\n",
       "      <td>18</td>\n",
       "      <td>M</td>\n",
       "      <td>Física</td>\n",
       "    </tr>\n",
       "    <tr>\n",
       "      <th>3</th>\n",
       "      <td>Sertorio</td>\n",
       "      <td>43</td>\n",
       "      <td>M</td>\n",
       "      <td>Educación física</td>\n",
       "    </tr>\n",
       "  </tbody>\n",
       "</table>\n",
       "</div>"
      ],
      "text/plain": [
       "     nombre  edad sexo      carrera del alumno\n",
       "0     Mario    33    M  Ingeniería informática\n",
       "1   Aurelia    15    F                 Química\n",
       "2     Julio    18    M                  Física\n",
       "3  Sertorio    43    M        Educación física"
      ]
     },
     "execution_count": 8,
     "metadata": {},
     "output_type": "execute_result"
    }
   ],
   "source": [
    "df.rename(columns= {'carrera':'carrera del alumno'}, inplace=True)\n",
    "df"
   ]
  },
  {
   "cell_type": "markdown",
   "metadata": {},
   "source": [
    "También, es posible crear nuevas columnas asignando un nuevo par clave valor:"
   ]
  },
  {
   "cell_type": "code",
   "execution_count": 10,
   "metadata": {},
   "outputs": [
    {
     "data": {
      "text/html": [
       "<div>\n",
       "<style scoped>\n",
       "    .dataframe tbody tr th:only-of-type {\n",
       "        vertical-align: middle;\n",
       "    }\n",
       "\n",
       "    .dataframe tbody tr th {\n",
       "        vertical-align: top;\n",
       "    }\n",
       "\n",
       "    .dataframe thead th {\n",
       "        text-align: right;\n",
       "    }\n",
       "</style>\n",
       "<table border=\"1\" class=\"dataframe\">\n",
       "  <thead>\n",
       "    <tr style=\"text-align: right;\">\n",
       "      <th></th>\n",
       "      <th>Días de la semana</th>\n",
       "    </tr>\n",
       "  </thead>\n",
       "  <tbody>\n",
       "    <tr>\n",
       "      <th>0</th>\n",
       "      <td>Lunes</td>\n",
       "    </tr>\n",
       "    <tr>\n",
       "      <th>1</th>\n",
       "      <td>Martes</td>\n",
       "    </tr>\n",
       "    <tr>\n",
       "      <th>2</th>\n",
       "      <td>Miércoles</td>\n",
       "    </tr>\n",
       "    <tr>\n",
       "      <th>3</th>\n",
       "      <td>Jueves</td>\n",
       "    </tr>\n",
       "    <tr>\n",
       "      <th>4</th>\n",
       "      <td>Viernes</td>\n",
       "    </tr>\n",
       "  </tbody>\n",
       "</table>\n",
       "</div>"
      ],
      "text/plain": [
       "  Días de la semana\n",
       "0             Lunes\n",
       "1            Martes\n",
       "2         Miércoles\n",
       "3            Jueves\n",
       "4           Viernes"
      ]
     },
     "execution_count": 10,
     "metadata": {},
     "output_type": "execute_result"
    }
   ],
   "source": [
    "df_dias = pd.DataFrame({'Días de la semana': ['Lunes', 'Martes', 'Miércoles', 'Jueves', 'Viernes']})\n",
    "df_dias"
   ]
  },
  {
   "cell_type": "code",
   "execution_count": 11,
   "metadata": {},
   "outputs": [
    {
     "data": {
      "text/html": [
       "<div>\n",
       "<style scoped>\n",
       "    .dataframe tbody tr th:only-of-type {\n",
       "        vertical-align: middle;\n",
       "    }\n",
       "\n",
       "    .dataframe tbody tr th {\n",
       "        vertical-align: top;\n",
       "    }\n",
       "\n",
       "    .dataframe thead th {\n",
       "        text-align: right;\n",
       "    }\n",
       "</style>\n",
       "<table border=\"1\" class=\"dataframe\">\n",
       "  <thead>\n",
       "    <tr style=\"text-align: right;\">\n",
       "      <th></th>\n",
       "      <th>Días de la semana</th>\n",
       "      <th>Días del fin de semana</th>\n",
       "    </tr>\n",
       "  </thead>\n",
       "  <tbody>\n",
       "    <tr>\n",
       "      <th>0</th>\n",
       "      <td>Lunes</td>\n",
       "      <td>Sábado</td>\n",
       "    </tr>\n",
       "    <tr>\n",
       "      <th>1</th>\n",
       "      <td>Martes</td>\n",
       "      <td>Domingo</td>\n",
       "    </tr>\n",
       "    <tr>\n",
       "      <th>2</th>\n",
       "      <td>Miércoles</td>\n",
       "      <td></td>\n",
       "    </tr>\n",
       "    <tr>\n",
       "      <th>3</th>\n",
       "      <td>Jueves</td>\n",
       "      <td></td>\n",
       "    </tr>\n",
       "    <tr>\n",
       "      <th>4</th>\n",
       "      <td>Viernes</td>\n",
       "      <td></td>\n",
       "    </tr>\n",
       "  </tbody>\n",
       "</table>\n",
       "</div>"
      ],
      "text/plain": [
       "  Días de la semana Días del fin de semana\n",
       "0             Lunes                 Sábado\n",
       "1            Martes                Domingo\n",
       "2         Miércoles                       \n",
       "3            Jueves                       \n",
       "4           Viernes                       "
      ]
     },
     "execution_count": 11,
     "metadata": {},
     "output_type": "execute_result"
    }
   ],
   "source": [
    "# Agregando columna Días del fin de semana\n",
    "df_dias['Días del fin de semana']=['Sábado', 'Domingo', '', '', '']\n",
    "df_dias"
   ]
  },
  {
   "cell_type": "markdown",
   "metadata": {},
   "source": [
    "Es posible crear nuevas columnas como resultado de una concatenación entre otras columnas o una operación sobre ellas."
   ]
  },
  {
   "cell_type": "code",
   "execution_count": 12,
   "metadata": {},
   "outputs": [
    {
     "data": {
      "text/html": [
       "<div>\n",
       "<style scoped>\n",
       "    .dataframe tbody tr th:only-of-type {\n",
       "        vertical-align: middle;\n",
       "    }\n",
       "\n",
       "    .dataframe tbody tr th {\n",
       "        vertical-align: top;\n",
       "    }\n",
       "\n",
       "    .dataframe thead th {\n",
       "        text-align: right;\n",
       "    }\n",
       "</style>\n",
       "<table border=\"1\" class=\"dataframe\">\n",
       "  <thead>\n",
       "    <tr style=\"text-align: right;\">\n",
       "      <th></th>\n",
       "      <th>nombre</th>\n",
       "      <th>edad</th>\n",
       "      <th>sexo</th>\n",
       "      <th>carrera del alumno</th>\n",
       "      <th>nombre_prefijo</th>\n",
       "    </tr>\n",
       "  </thead>\n",
       "  <tbody>\n",
       "    <tr>\n",
       "      <th>0</th>\n",
       "      <td>Mario</td>\n",
       "      <td>33</td>\n",
       "      <td>M</td>\n",
       "      <td>Ingeniería informática</td>\n",
       "      <td>Sr. Mario</td>\n",
       "    </tr>\n",
       "    <tr>\n",
       "      <th>1</th>\n",
       "      <td>Aurelia</td>\n",
       "      <td>15</td>\n",
       "      <td>F</td>\n",
       "      <td>Química</td>\n",
       "      <td>Sra. Aurelia</td>\n",
       "    </tr>\n",
       "    <tr>\n",
       "      <th>2</th>\n",
       "      <td>Julio</td>\n",
       "      <td>18</td>\n",
       "      <td>M</td>\n",
       "      <td>Física</td>\n",
       "      <td>Sr. Julio</td>\n",
       "    </tr>\n",
       "    <tr>\n",
       "      <th>3</th>\n",
       "      <td>Sertorio</td>\n",
       "      <td>43</td>\n",
       "      <td>M</td>\n",
       "      <td>Educación física</td>\n",
       "      <td>Sr. Sertorio</td>\n",
       "    </tr>\n",
       "  </tbody>\n",
       "</table>\n",
       "</div>"
      ],
      "text/plain": [
       "     nombre  edad sexo      carrera del alumno nombre_prefijo\n",
       "0     Mario    33    M  Ingeniería informática      Sr. Mario\n",
       "1   Aurelia    15    F                 Química   Sra. Aurelia\n",
       "2     Julio    18    M                  Física      Sr. Julio\n",
       "3  Sertorio    43    M        Educación física   Sr. Sertorio"
      ]
     },
     "execution_count": 12,
     "metadata": {},
     "output_type": "execute_result"
    }
   ],
   "source": [
    "df['nombre_prefijo']= ['Sr. ', 'Sra. ','Sr. ','Sr. '] + df['nombre']\n",
    "df"
   ]
  },
  {
   "cell_type": "markdown",
   "metadata": {},
   "source": [
    "Se pueden combinar dos DataFrames usando `pd.concat([df1, df2])`. Al hacerlo, los índices se duplican, por lo que es posible reordenarlos con `.reset_index(drop=True)` o al momento de concatenarlos con `pd.concat([df1, df2], ignore_index = True)`."
   ]
  },
  {
   "cell_type": "code",
   "execution_count": 17,
   "metadata": {},
   "outputs": [
    {
     "data": {
      "text/html": [
       "<div>\n",
       "<style scoped>\n",
       "    .dataframe tbody tr th:only-of-type {\n",
       "        vertical-align: middle;\n",
       "    }\n",
       "\n",
       "    .dataframe tbody tr th {\n",
       "        vertical-align: top;\n",
       "    }\n",
       "\n",
       "    .dataframe thead th {\n",
       "        text-align: right;\n",
       "    }\n",
       "</style>\n",
       "<table border=\"1\" class=\"dataframe\">\n",
       "  <thead>\n",
       "    <tr style=\"text-align: right;\">\n",
       "      <th></th>\n",
       "      <th>mes</th>\n",
       "      <th>ventas</th>\n",
       "    </tr>\n",
       "  </thead>\n",
       "  <tbody>\n",
       "    <tr>\n",
       "      <th>0</th>\n",
       "      <td>marzo</td>\n",
       "      <td>71</td>\n",
       "    </tr>\n",
       "    <tr>\n",
       "      <th>1</th>\n",
       "      <td>marzo</td>\n",
       "      <td>9</td>\n",
       "    </tr>\n",
       "    <tr>\n",
       "      <th>2</th>\n",
       "      <td>marzo</td>\n",
       "      <td>80</td>\n",
       "    </tr>\n",
       "    <tr>\n",
       "      <th>3</th>\n",
       "      <td>marzo</td>\n",
       "      <td>95</td>\n",
       "    </tr>\n",
       "    <tr>\n",
       "      <th>4</th>\n",
       "      <td>marzo</td>\n",
       "      <td>8</td>\n",
       "    </tr>\n",
       "  </tbody>\n",
       "</table>\n",
       "</div>"
      ],
      "text/plain": [
       "     mes  ventas\n",
       "0  marzo      71\n",
       "1  marzo       9\n",
       "2  marzo      80\n",
       "3  marzo      95\n",
       "4  marzo       8"
      ]
     },
     "execution_count": 17,
     "metadata": {},
     "output_type": "execute_result"
    }
   ],
   "source": [
    "df1 = pd.DataFrame({'mes': 'marzo',\n",
    "                   'ventas': np.random.randint(1,100, 5)})\n",
    "df1"
   ]
  },
  {
   "cell_type": "code",
   "execution_count": 18,
   "metadata": {},
   "outputs": [
    {
     "data": {
      "text/html": [
       "<div>\n",
       "<style scoped>\n",
       "    .dataframe tbody tr th:only-of-type {\n",
       "        vertical-align: middle;\n",
       "    }\n",
       "\n",
       "    .dataframe tbody tr th {\n",
       "        vertical-align: top;\n",
       "    }\n",
       "\n",
       "    .dataframe thead th {\n",
       "        text-align: right;\n",
       "    }\n",
       "</style>\n",
       "<table border=\"1\" class=\"dataframe\">\n",
       "  <thead>\n",
       "    <tr style=\"text-align: right;\">\n",
       "      <th></th>\n",
       "      <th>mes</th>\n",
       "      <th>ventas</th>\n",
       "    </tr>\n",
       "  </thead>\n",
       "  <tbody>\n",
       "    <tr>\n",
       "      <th>0</th>\n",
       "      <td>abril</td>\n",
       "      <td>15</td>\n",
       "    </tr>\n",
       "    <tr>\n",
       "      <th>1</th>\n",
       "      <td>abril</td>\n",
       "      <td>50</td>\n",
       "    </tr>\n",
       "    <tr>\n",
       "      <th>2</th>\n",
       "      <td>abril</td>\n",
       "      <td>50</td>\n",
       "    </tr>\n",
       "    <tr>\n",
       "      <th>3</th>\n",
       "      <td>abril</td>\n",
       "      <td>17</td>\n",
       "    </tr>\n",
       "    <tr>\n",
       "      <th>4</th>\n",
       "      <td>abril</td>\n",
       "      <td>62</td>\n",
       "    </tr>\n",
       "  </tbody>\n",
       "</table>\n",
       "</div>"
      ],
      "text/plain": [
       "     mes  ventas\n",
       "0  abril      15\n",
       "1  abril      50\n",
       "2  abril      50\n",
       "3  abril      17\n",
       "4  abril      62"
      ]
     },
     "execution_count": 18,
     "metadata": {},
     "output_type": "execute_result"
    }
   ],
   "source": [
    "df2 = pd.DataFrame({'mes': 'abril',\n",
    "                   'ventas': np.random.randint(1,100, 5)})\n",
    "df2"
   ]
  },
  {
   "cell_type": "code",
   "execution_count": 19,
   "metadata": {},
   "outputs": [
    {
     "data": {
      "text/html": [
       "<div>\n",
       "<style scoped>\n",
       "    .dataframe tbody tr th:only-of-type {\n",
       "        vertical-align: middle;\n",
       "    }\n",
       "\n",
       "    .dataframe tbody tr th {\n",
       "        vertical-align: top;\n",
       "    }\n",
       "\n",
       "    .dataframe thead th {\n",
       "        text-align: right;\n",
       "    }\n",
       "</style>\n",
       "<table border=\"1\" class=\"dataframe\">\n",
       "  <thead>\n",
       "    <tr style=\"text-align: right;\">\n",
       "      <th></th>\n",
       "      <th>mes</th>\n",
       "      <th>ventas</th>\n",
       "    </tr>\n",
       "  </thead>\n",
       "  <tbody>\n",
       "    <tr>\n",
       "      <th>0</th>\n",
       "      <td>marzo</td>\n",
       "      <td>71</td>\n",
       "    </tr>\n",
       "    <tr>\n",
       "      <th>1</th>\n",
       "      <td>marzo</td>\n",
       "      <td>9</td>\n",
       "    </tr>\n",
       "    <tr>\n",
       "      <th>2</th>\n",
       "      <td>marzo</td>\n",
       "      <td>80</td>\n",
       "    </tr>\n",
       "    <tr>\n",
       "      <th>3</th>\n",
       "      <td>marzo</td>\n",
       "      <td>95</td>\n",
       "    </tr>\n",
       "    <tr>\n",
       "      <th>4</th>\n",
       "      <td>marzo</td>\n",
       "      <td>8</td>\n",
       "    </tr>\n",
       "    <tr>\n",
       "      <th>0</th>\n",
       "      <td>abril</td>\n",
       "      <td>15</td>\n",
       "    </tr>\n",
       "    <tr>\n",
       "      <th>1</th>\n",
       "      <td>abril</td>\n",
       "      <td>50</td>\n",
       "    </tr>\n",
       "    <tr>\n",
       "      <th>2</th>\n",
       "      <td>abril</td>\n",
       "      <td>50</td>\n",
       "    </tr>\n",
       "    <tr>\n",
       "      <th>3</th>\n",
       "      <td>abril</td>\n",
       "      <td>17</td>\n",
       "    </tr>\n",
       "    <tr>\n",
       "      <th>4</th>\n",
       "      <td>abril</td>\n",
       "      <td>62</td>\n",
       "    </tr>\n",
       "  </tbody>\n",
       "</table>\n",
       "</div>"
      ],
      "text/plain": [
       "     mes  ventas\n",
       "0  marzo      71\n",
       "1  marzo       9\n",
       "2  marzo      80\n",
       "3  marzo      95\n",
       "4  marzo       8\n",
       "0  abril      15\n",
       "1  abril      50\n",
       "2  abril      50\n",
       "3  abril      17\n",
       "4  abril      62"
      ]
     },
     "execution_count": 19,
     "metadata": {},
     "output_type": "execute_result"
    }
   ],
   "source": [
    "# Concatenando df1 y df2\n",
    "df3 = pd.concat([df1, df2])\n",
    "df3"
   ]
  },
  {
   "cell_type": "code",
   "execution_count": 20,
   "metadata": {},
   "outputs": [
    {
     "data": {
      "text/html": [
       "<div>\n",
       "<style scoped>\n",
       "    .dataframe tbody tr th:only-of-type {\n",
       "        vertical-align: middle;\n",
       "    }\n",
       "\n",
       "    .dataframe tbody tr th {\n",
       "        vertical-align: top;\n",
       "    }\n",
       "\n",
       "    .dataframe thead th {\n",
       "        text-align: right;\n",
       "    }\n",
       "</style>\n",
       "<table border=\"1\" class=\"dataframe\">\n",
       "  <thead>\n",
       "    <tr style=\"text-align: right;\">\n",
       "      <th></th>\n",
       "      <th>mes</th>\n",
       "      <th>ventas</th>\n",
       "    </tr>\n",
       "  </thead>\n",
       "  <tbody>\n",
       "    <tr>\n",
       "      <th>0</th>\n",
       "      <td>marzo</td>\n",
       "      <td>71</td>\n",
       "    </tr>\n",
       "    <tr>\n",
       "      <th>1</th>\n",
       "      <td>marzo</td>\n",
       "      <td>9</td>\n",
       "    </tr>\n",
       "    <tr>\n",
       "      <th>2</th>\n",
       "      <td>marzo</td>\n",
       "      <td>80</td>\n",
       "    </tr>\n",
       "    <tr>\n",
       "      <th>3</th>\n",
       "      <td>marzo</td>\n",
       "      <td>95</td>\n",
       "    </tr>\n",
       "    <tr>\n",
       "      <th>4</th>\n",
       "      <td>marzo</td>\n",
       "      <td>8</td>\n",
       "    </tr>\n",
       "    <tr>\n",
       "      <th>5</th>\n",
       "      <td>abril</td>\n",
       "      <td>15</td>\n",
       "    </tr>\n",
       "    <tr>\n",
       "      <th>6</th>\n",
       "      <td>abril</td>\n",
       "      <td>50</td>\n",
       "    </tr>\n",
       "    <tr>\n",
       "      <th>7</th>\n",
       "      <td>abril</td>\n",
       "      <td>50</td>\n",
       "    </tr>\n",
       "    <tr>\n",
       "      <th>8</th>\n",
       "      <td>abril</td>\n",
       "      <td>17</td>\n",
       "    </tr>\n",
       "    <tr>\n",
       "      <th>9</th>\n",
       "      <td>abril</td>\n",
       "      <td>62</td>\n",
       "    </tr>\n",
       "  </tbody>\n",
       "</table>\n",
       "</div>"
      ],
      "text/plain": [
       "     mes  ventas\n",
       "0  marzo      71\n",
       "1  marzo       9\n",
       "2  marzo      80\n",
       "3  marzo      95\n",
       "4  marzo       8\n",
       "5  abril      15\n",
       "6  abril      50\n",
       "7  abril      50\n",
       "8  abril      17\n",
       "9  abril      62"
      ]
     },
     "execution_count": 20,
     "metadata": {},
     "output_type": "execute_result"
    }
   ],
   "source": [
    "# Reiniciando los índices\n",
    "df3 = df3.reset_index(drop=True)\n",
    "df3"
   ]
  },
  {
   "cell_type": "markdown",
   "metadata": {},
   "source": [
    "#### Orden\n",
    "Para ordenar los valores, se usar el método `sort_values()`, el cual los ordena según una columna especificada:"
   ]
  },
  {
   "cell_type": "code",
   "execution_count": 22,
   "metadata": {},
   "outputs": [
    {
     "data": {
      "text/html": [
       "<div>\n",
       "<style scoped>\n",
       "    .dataframe tbody tr th:only-of-type {\n",
       "        vertical-align: middle;\n",
       "    }\n",
       "\n",
       "    .dataframe tbody tr th {\n",
       "        vertical-align: top;\n",
       "    }\n",
       "\n",
       "    .dataframe thead th {\n",
       "        text-align: right;\n",
       "    }\n",
       "</style>\n",
       "<table border=\"1\" class=\"dataframe\">\n",
       "  <thead>\n",
       "    <tr style=\"text-align: right;\">\n",
       "      <th></th>\n",
       "      <th>nombre</th>\n",
       "      <th>edad</th>\n",
       "      <th>sexo</th>\n",
       "      <th>carrera del alumno</th>\n",
       "      <th>nombre_prefijo</th>\n",
       "    </tr>\n",
       "  </thead>\n",
       "  <tbody>\n",
       "    <tr>\n",
       "      <th>1</th>\n",
       "      <td>Aurelia</td>\n",
       "      <td>15</td>\n",
       "      <td>F</td>\n",
       "      <td>Química</td>\n",
       "      <td>Sra. Aurelia</td>\n",
       "    </tr>\n",
       "    <tr>\n",
       "      <th>2</th>\n",
       "      <td>Julio</td>\n",
       "      <td>18</td>\n",
       "      <td>M</td>\n",
       "      <td>Física</td>\n",
       "      <td>Sr. Julio</td>\n",
       "    </tr>\n",
       "    <tr>\n",
       "      <th>0</th>\n",
       "      <td>Mario</td>\n",
       "      <td>33</td>\n",
       "      <td>M</td>\n",
       "      <td>Ingeniería informática</td>\n",
       "      <td>Sr. Mario</td>\n",
       "    </tr>\n",
       "    <tr>\n",
       "      <th>3</th>\n",
       "      <td>Sertorio</td>\n",
       "      <td>43</td>\n",
       "      <td>M</td>\n",
       "      <td>Educación física</td>\n",
       "      <td>Sr. Sertorio</td>\n",
       "    </tr>\n",
       "  </tbody>\n",
       "</table>\n",
       "</div>"
      ],
      "text/plain": [
       "     nombre  edad sexo      carrera del alumno nombre_prefijo\n",
       "1   Aurelia    15    F                 Química   Sra. Aurelia\n",
       "2     Julio    18    M                  Física      Sr. Julio\n",
       "0     Mario    33    M  Ingeniería informática      Sr. Mario\n",
       "3  Sertorio    43    M        Educación física   Sr. Sertorio"
      ]
     },
     "execution_count": 22,
     "metadata": {},
     "output_type": "execute_result"
    }
   ],
   "source": [
    "# Ordenando de forma creciente según la edad\n",
    "df.sort_values(by = 'edad', ascending = True)"
   ]
  },
  {
   "cell_type": "code",
   "execution_count": null,
   "metadata": {},
   "outputs": [],
   "source": []
  },
  {
   "cell_type": "markdown",
   "metadata": {},
   "source": [
    "### Panel"
   ]
  },
  {
   "cell_type": "markdown",
   "metadata": {},
   "source": [
    "## Matplotlib"
   ]
  },
  {
   "cell_type": "code",
   "execution_count": null,
   "metadata": {},
   "outputs": [],
   "source": []
  },
  {
   "cell_type": "markdown",
   "metadata": {
    "id": "jKlvd7E_kx2Z"
   },
   "source": [
    "## Emojis\n",
    "Los emojis que se pueden imprimir en pantalla en Python son caracteres Unicode."
   ]
  },
  {
   "cell_type": "code",
   "execution_count": null,
   "metadata": {},
   "outputs": [],
   "source": [
    "print('Cara sonriente: ' + '\\U0001F60A')\n",
    "print('Globo terráqueo: ' + '\\U0001F30D')\n",
    "print('Pizza: ' + '\\U0001F355')\n",
    "print('Arcoíris: ' + '\\U0001F308')\n",
    "print('Nota musical: ' + '\\U0001F3B5')\n",
    "print('Libros: ' + '\\U0001F4DA')"
   ]
  }
 ],
 "metadata": {
  "colab": {
   "authorship_tag": "ABX9TyNiuGYaYw+3g0VcfDkHTvcE",
   "provenance": []
  },
  "kernelspec": {
   "display_name": "Python 3 (ipykernel)",
   "language": "python",
   "name": "python3"
  },
  "language_info": {
   "codemirror_mode": {
    "name": "ipython",
    "version": 3
   },
   "file_extension": ".py",
   "mimetype": "text/x-python",
   "name": "python",
   "nbconvert_exporter": "python",
   "pygments_lexer": "ipython3",
   "version": "3.11.4"
  }
 },
 "nbformat": 4,
 "nbformat_minor": 4
}
